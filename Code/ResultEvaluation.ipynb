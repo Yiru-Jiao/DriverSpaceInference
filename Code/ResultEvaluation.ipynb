{
 "cells": [
  {
   "cell_type": "code",
   "execution_count": null,
   "metadata": {},
   "outputs": [],
   "source": [
    "import pandas as pd\n",
    "import numpy as np"
   ]
  },
  {
   "cell_type": "code",
   "execution_count": null,
   "metadata": {},
   "outputs": [],
   "source": [
    "resultpath = "
   ]
  },
  {
   "cell_type": "code",
   "execution_count": null,
   "metadata": {},
   "outputs": [],
   "source": [
    "# Driver space inference results\n",
    "\n",
    "for dx in ['d'+str(id) for id in range(1,11)]:\n",
    "\n",
    "    expResults = pd.read_csv(resultpath + '/exp_' + dx + '.csv', index_col=0)\n",
    "\n",
    "    rxfailure = np.logical_or(expResults.r_x_plus_hat==expResults.x_lower_bound, expResults.r_x_minus_hat==expResults.x_lower_bound)\n",
    "    ryfailure = np.logical_or(expResults.r_y_plus_hat==expResults.y_lower_bound, expResults.r_y_minus_hat==expResults.y_lower_bound)\n",
    "    betafailure = np.any(expResults[['pval_beta_x_plus', 'pval_beta_x_minus', 'pval_beta_y_plus', 'pval_beta_y_minus']]>0.05, axis=1)\n",
    "    rejection = expResults.index[np.any(np.column_stack((rxfailure,ryfailure,betafailure)), axis=1)]\n",
    "    expResults = expResults.drop(rejection)\n",
    "\n",
    "    print(dx + ': ' + str(rejection))\n",
    "\n",
    "    expResults.to_csv(resultpath + '/exp_' + dx + '_accepted.csv')"
   ]
  },
  {
   "cell_type": "code",
   "execution_count": null,
   "metadata": {},
   "outputs": [],
   "source": [
    "# Asymmetric driver space results\n",
    "\n",
    "for file in ['front_d6','back_d6','front_d7','back_d7']:\n",
    "\n",
    "    expResults = pd.read_csv(resultpath + '/' + file + '.csv', index_col=0)\n",
    "\n",
    "    rxfailure = np.logical_or(expResults.r_x_plus_hat==expResults.x_lower_bound, expResults.r_x_minus_hat==expResults.x_lower_bound)\n",
    "    ryfailure = np.logical_or(expResults.r_y_plus_hat==expResults.y_lower_bound, expResults.r_y_minus_hat==expResults.y_lower_bound)\n",
    "    betafailure = np.any(expResults[['pval_beta_x_plus', 'pval_beta_x_minus', 'pval_beta_y_plus', 'pval_beta_y_minus']]>0.05, axis=1)\n",
    "    rejection = expResults.index[np.any(np.column_stack((rxfailure,ryfailure,betafailure)), axis=1)]\n",
    "    expResults = expResults.drop(rejection)\n",
    "\n",
    "    print(file + ': ' + str(rejection))\n",
    "\n",
    "    expResults.to_csv(resultpath + '/' + file + '_accepted.csv')"
   ]
  }
 ],
 "metadata": {
  "kernelspec": {
   "display_name": "Python 3.9.12 ('base')",
   "language": "python",
   "name": "python3"
  },
  "language_info": {
   "name": "python",
   "version": "3.9.12"
  },
  "orig_nbformat": 4,
  "vscode": {
   "interpreter": {
    "hash": "359cfbc941e40bb07867e0c80028e8e5abf869a3ddc788916c96d092b0bb0823"
   }
  }
 },
 "nbformat": 4,
 "nbformat_minor": 2
}
