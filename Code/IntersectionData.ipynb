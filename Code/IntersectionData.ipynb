{
 "cells": [
  {
   "attachments": {},
   "cell_type": "markdown",
   "metadata": {},
   "source": [
    "# Part II of intersection detection\n",
    "In this part, intersection circles are determined, where the conditions are relexed to ensure more possible intersections are detected. Part I is in `IntersectionDetection.py`"
   ]
  },
  {
   "cell_type": "code",
   "execution_count": null,
   "metadata": {},
   "outputs": [],
   "source": [
    "from shapely.geometry import MultiPoint, LineString\n",
    "from sklearn.cluster import AgglomerativeClustering\n",
    "import pandas as pd\n",
    "import numpy as np\n",
    "from tqdm import tqdm\n",
    "from shapely import MultiLineString, LineString\n",
    "import matplotlib as mpl\n",
    "import matplotlib.pyplot as plt\n",
    "plt.style.use('default')\n",
    "font = {'family' : 'Arial', 'size'   : 9}\n",
    "plt.rc('font', **font)\n",
    "plt.rcParams['mathtext.fontset'] = 'cm'\n",
    "from IPython.display import display, clear_output\n",
    "import time\n",
    "import os\n",
    "\n",
    "data_path = os.path.abspath('..') + '/OutputData/DriverSpace/Intersection/' # Set your own path here\n",
    "\n",
    "def rotateMatrix(a):\n",
    "    return np.array([[np.cos(a), -np.sin(a)], [np.sin(a), np.cos(a)]])"
   ]
  },
  {
   "attachments": {},
   "cell_type": "markdown",
   "metadata": {},
   "source": [
    "## Determining the circle boundaries of each potential intersection"
   ]
  },
  {
   "cell_type": "code",
   "execution_count": null,
   "metadata": {},
   "outputs": [],
   "source": [
    "intersection_list = []\n",
    "for dx in tqdm(['d'+str(did+1) for did in range(10)]):\n",
    "    data = pd.read_hdf(os.path.abspath('..') + '/InputData/pNEUMA/'+dx+'/data_20181029_'+dx+'_0930_1000.h5', key='data')\n",
    "    roads = pd.read_hdf(data_path+'trajectories/'+dx+'_roads.h5', key='data')\n",
    "    hotspots = roads[(roads['G_star']<np.percentile(roads['G_star'],15))|\n",
    "                                    (roads['G_star']>np.percentile(roads['G_star'],85))][['x','y']]\n",
    "    \n",
    "    \n",
    "    clustering = AgglomerativeClustering(n_clusters=None, \n",
    "                                         distance_threshold=25, \n",
    "                                         affinity='euclidean',\n",
    "                                         linkage='average',\n",
    "                                         compute_full_tree=True).fit(hotspots)\n",
    "    hotspots['cluster'] = clustering.labels_\n",
    "\n",
    "    intersections = []\n",
    "    for cluster in hotspots['cluster'].unique():\n",
    "        intersect_points = hotspots[hotspots['cluster']==cluster][['x','y']]\n",
    "        if len(intersect_points)>3:\n",
    "            multipoints = MultiPoint(intersect_points.values)\n",
    "            convex_hull = multipoints.convex_hull\n",
    "            mbr_points = list(zip(*convex_hull.minimum_rotated_rectangle.exterior.coords.xy))\n",
    "            mbr_lengths = [LineString((mbr_points[i], mbr_points[i+1])).length for i in range(len(mbr_points) - 1)]\n",
    "            radius_min = min(mbr_lengths)\n",
    "            radius_max = max(mbr_lengths)\n",
    "            if radius_min > 3.5:\n",
    "                df = data[((data['x']-convex_hull.centroid.x)**2+(data['y']-convex_hull.centroid.y)**2)<=(radius_max)**2].reset_index()\n",
    "                traffic = len(df['track_id'].unique())/((df['time'].max()-df['time'].min())/60/60)/np.pi/radius_max**2\n",
    "                intersections.append([cluster, convex_hull.centroid.x, convex_hull.centroid.y, radius_max, traffic])\n",
    "    intersections = pd.DataFrame(intersections, columns=['id','x','y','radius','traffic'])\n",
    "    intersections['dx'] = dx\n",
    "    intersection_list.append(intersections)\n",
    "\n",
    "# Save intersections\n",
    "intersection_list = pd.concat(intersection_list)\n",
    "intersection_list = intersection_list.sort_values(by=['dx','id']).reset_index(drop=True)\n",
    "intersection_list.to_csv(data_path + 'potential_intersections.csv', index=False)"
   ]
  },
  {
   "attachments": {},
   "cell_type": "markdown",
   "metadata": {},
   "source": [
    "## Manually select intersections of interest\n",
    "Repeat from d1 to d10"
   ]
  },
  {
   "cell_type": "code",
   "execution_count": null,
   "metadata": {},
   "outputs": [],
   "source": [
    "# For the first time\n",
    "intersections = pd.read_csv(data_path + 'original_intersections.csv')\n",
    "intersections['type'] = 'Intersection'\n",
    "intersections['keep'] = True\n",
    "intersections['signalized'] = 1 # 1: signalized, 0: unsignalized, -1: not checked"
   ]
  },
  {
   "cell_type": "code",
   "execution_count": null,
   "metadata": {},
   "outputs": [],
   "source": [
    "# For areas after d1\n",
    "intersections = pd.read_csv(data_path + 'intersections_all.csv')"
   ]
  },
  {
   "attachments": {},
   "cell_type": "markdown",
   "metadata": {},
   "source": [
    "### Mark types of potential interesections"
   ]
  },
  {
   "cell_type": "code",
   "execution_count": null,
   "metadata": {},
   "outputs": [],
   "source": [
    "dx = 'd6'\n",
    "roads = pd.read_hdf(data_path+'trajectories/'+dx+'_roads.h5', key='data')\n",
    "trajectories = pd.read_hdf(data_path+'trajectories/simplified_trajectories_'+dx+'.h5', key='data')\n",
    "int2inspect = intersections[intersections['dx']==dx].copy()\n",
    "x0, y0 = roads[['x','y']].mean().values\n",
    "roads[['x','y']] = (roads[['x','y']].values-[x0,y0]) @ rotateMatrix(-0.305*np.pi) + [x0,y0]\n",
    "trajectories[['x','y']] = (trajectories[['x','y']].values-[x0,y0]) @ rotateMatrix(-0.305*np.pi) + [x0,y0]\n",
    "int2inspect[['x','y']] = (int2inspect[['x','y']].values-[x0,y0]) @ rotateMatrix(-0.305*np.pi) + [x0,y0]\n",
    "\n",
    "check_id = -1"
   ]
  },
  {
   "cell_type": "code",
   "execution_count": null,
   "metadata": {},
   "outputs": [],
   "source": [
    "# Repeat to check all hotspots\n",
    "check_id += 1\n",
    "intersection = int2inspect.iloc[check_id]\n",
    "data_int = trajectories[(trajectories['x']-intersection['x'])**2+(trajectories['y']-intersection['y'])**2<intersection['radius']**2]\n",
    "\n",
    "fig, ax = plt.subplots(figsize=(4,4))\n",
    "lines = [line[['x','y']].values for _, line in data_int.groupby('track_id')[['x','y']]]\n",
    "lc = mpl.collections.LineCollection(lines, color='k', linewidth=0.1, alpha=1)\n",
    "ax.add_collection(lc)\n",
    "ax.scatter(data_int.groupby('track_id')['x'].first(), data_int.groupby('track_id')['y'].first(), s=5, c='g')\n",
    "ax.scatter(data_int.groupby('track_id')['x'].last(), data_int.groupby('track_id')['y'].last(), s=5, c='r')\n",
    "ax.scatter(intersection['x'], intersection['y'], s=50, marker='x', c='b', zorder=10)\n",
    "circle = plt.Circle((intersection['x'], intersection['y']), intersection['radius'], color='b', fill=False)\n",
    "ax.add_artist(circle)\n",
    "ax.set_title('id: '+str(intersection['id']))\n",
    "ax.set_aspect('equal')"
   ]
  },
  {
   "cell_type": "code",
   "execution_count": null,
   "metadata": {},
   "outputs": [],
   "source": [
    "dx"
   ]
  },
  {
   "cell_type": "code",
   "execution_count": null,
   "metadata": {},
   "outputs": [],
   "source": [
    "T_junctions_list = {'d1':[2,11], 'd2':[4,14,18], \n",
    "                    'd3':[13,19,23,37],'d4':[6,21,31], \n",
    "                    'd5':[10], 'd6': [8], \n",
    "                    'd7':[], 'd8':[6], \n",
    "                    'd9':[], 'd10':[]}\n",
    "T_junctions = T_junctions_list[dx]\n",
    "# Difference between T-junctions and On/off ramps: T-junctions have >=2 roads crossing\n",
    "On_off_ramps_list = {'d1':[8,12,18,20,25], 'd2':[1,10,11,15], \n",
    "                     'd3':[2,3,5,8,11,14,20,21,22,25],'d4':[10,12], \n",
    "                     'd5':[5,6,7,8,9,11], 'd6': [4,14,18,21,26], \n",
    "                     'd7':[3,7,12,14], 'd8':[1,3,12,13,15,22,24,28,34,35], \n",
    "                     'd9':[1,12,15,39,40], 'd10':[2,6,8,15]}\n",
    "On_off_ramps = On_off_ramps_list[dx]\n",
    "\n",
    "Neither_list = {'d1':[], 'd2':[0,2,9,22], \n",
    "                'd3':[12,18,26,28,29],'d4':[1,5,13,14,33,40], \n",
    "                'd5':[0,2,4,14,15,16,19,20,21], 'd6': [17,20,23,30,36], \n",
    "                'd7':[0,1,2,8,26,30,33], 'd8':[5,8,10,11,25,37], \n",
    "                'd9':[2,8,19,23,41], 'd10':[0,1,3,7,14,16]}\n",
    "Neither = Neither_list[dx]\n",
    "\n",
    "intersections.loc[(intersections['dx']==dx)&(intersections['id'].isin(T_junctions)), 'type'] = 'T-junction'\n",
    "intersections.loc[(intersections['dx']==dx)&(intersections['id'].isin(On_off_ramps)), 'type'] = 'On/off ramp'\n",
    "intersections.loc[(intersections['dx']==dx)&(intersections['id'].isin(Neither)), 'type'] = 'Straight/curve road or video edge'\n",
    "\n",
    "intersections.loc[(intersections['dx']==dx)&(~intersections['type'].isin(['Intersection','T-junction'])), 'keep'] = False\n",
    "intersections.loc[(intersections['dx']==dx)&(~intersections['type'].isin(['Intersection','T-junction'])), 'signalized'] = -1"
   ]
  },
  {
   "attachments": {},
   "cell_type": "markdown",
   "metadata": {},
   "source": [
    "### Merge circles (if necessary)"
   ]
  },
  {
   "cell_type": "code",
   "execution_count": null,
   "metadata": {},
   "outputs": [],
   "source": [
    "int2inspect = intersections[(intersections['dx']==dx)&(intersections['keep'])].copy()\n",
    "int2inspect[['x','y']] = (int2inspect[['x','y']].values-[x0,y0]) @ rotateMatrix(-0.305*np.pi) + [x0,y0]\n",
    "\n",
    "plt.scatter(roads['x'], roads['y'], s=0.1, c='grey')\n",
    "plt.scatter(int2inspect['x'], int2inspect['y'], s=5, c='b')\n",
    "for i in range(len(int2inspect)):\n",
    "    circle = plt.Circle((int2inspect.iloc[i]['x'], int2inspect.iloc[i]['y']), int2inspect.iloc[i]['radius'], color='b', fill=False)\n",
    "    plt.gcf().gca().add_artist(circle)\n",
    "    plt.text(int2inspect.iloc[i]['x'], int2inspect.iloc[i]['y']+int2inspect.iloc[i]['radius'], \n",
    "             str(int2inspect.iloc[i]['id'])+', r='+str(int(int2inspect.iloc[i]['radius'])), \n",
    "             fontsize=11, color='b')\n",
    "plt.axis('equal')\n",
    "plt.show()\n",
    "print(int2inspect['id'].sort_values().values)"
   ]
  },
  {
   "cell_type": "code",
   "execution_count": null,
   "metadata": {},
   "outputs": [],
   "source": [
    "merge_points_i_list = [[], [], [16,19,], [18], [], \n",
    "                       [], [], [], [], []]\n",
    "merge_points_i = merge_points_i_list[int(dx[1:])-1]\n",
    "\n",
    "merge_points_j_list = [[], [], [37,13,], [6], [],\n",
    "                       [], [], [], [], []]\n",
    "merge_points_j = merge_points_j_list[int(dx[1:])-1]\n",
    "\n",
    "for i,j in zip(merge_points_i, merge_points_j):\n",
    "    x_i, y_i, radius_i = intersections.loc[(intersections['dx']==dx)&(intersections['id']==i), ['x','y','radius']].values[0]\n",
    "    x_j, y_j, radius_j = intersections.loc[(intersections['dx']==dx)&(intersections['id']==j), ['x','y','radius']].values[0]\n",
    "    d = np.sqrt((x_i-x_j)**2+(y_i-y_j)**2)\n",
    "    merged_radius = (radius_i + radius_j + d)/2\n",
    "    merged_x = x_i + (x_j-x_i)*(merged_radius-radius_i)/d\n",
    "    merged_y = y_i + (y_j-y_i)*(merged_radius-radius_i)/d\n",
    "    intersections.loc[(intersections['dx']==dx)&(intersections['id']==i), ['x','y','radius']] = [merged_x, merged_y, merged_radius]\n",
    "    intersections.loc[(intersections['dx']==dx)&(intersections['id']==j), 'keep'] = False\n",
    "    intersections.loc[(intersections['dx']==dx)&(intersections['id']==j), 'note'] = 'Merged with '+str(i)"
   ]
  },
  {
   "attachments": {},
   "cell_type": "markdown",
   "metadata": {},
   "source": [
    "### Adjust radii\n",
    "We don't move centers as they are harder to extimate how far should be moved"
   ]
  },
  {
   "cell_type": "code",
   "execution_count": null,
   "metadata": {},
   "outputs": [],
   "source": [
    "int2inspect = intersections[(intersections['dx']==dx)&(intersections['keep'])].copy()\n",
    "int2inspect[['x','y']] = (int2inspect[['x','y']].values-[x0,y0]) @ rotateMatrix(-0.305*np.pi) + [x0,y0]\n",
    "\n",
    "plt.scatter(roads['x'], roads['y'], s=0.1, c='grey')\n",
    "plt.scatter(int2inspect['x'], int2inspect['y'], s=5, c='b')\n",
    "for i in range(len(int2inspect)):\n",
    "    circle = plt.Circle((int2inspect.iloc[i]['x'], int2inspect.iloc[i]['y']), int2inspect.iloc[i]['radius'], color='b', fill=False)\n",
    "    plt.gcf().gca().add_artist(circle)\n",
    "    plt.text(int2inspect.iloc[i]['x'], int2inspect.iloc[i]['y']+int2inspect.iloc[i]['radius'], \n",
    "             str(int2inspect.iloc[i]['id'])+', r='+str(int(int2inspect.iloc[i]['radius'])), \n",
    "             fontsize=11, color='b')\n",
    "plt.axis('equal')\n",
    "print(int2inspect['id'].sort_values().values)"
   ]
  },
  {
   "cell_type": "code",
   "execution_count": null,
   "metadata": {},
   "outputs": [],
   "source": [
    "indices_list = {'d1':[1,5,13], 'd2':[6,14], \n",
    "                'd3':[10,23], 'd4':[0,2,3,4,9,18], \n",
    "                'd5':[10,12], 'd6':[0,6,24], \n",
    "                'd7':[5,6,10,12,14,16,23], 'd8':[0,1,4,6,7,16,17,19,35],\n",
    "                'd9':[0,5,7,11,14,16,17,20,28,44], 'd10':[]}\n",
    "indices = indices_list[dx]\n",
    "\n",
    "shrink_factors_list = {'d1':[0.7,0.7,0.9], 'd2':[0.8,1.3], \n",
    "                       'd3':[0.85,0.8], 'd4':[0.85,0.8,0.8,0.8,0.9,0.9], \n",
    "                       'd5':[1.4,1.6], 'd6':[0.75,0.9,1.5], \n",
    "                       'd7':[0.7,0.9,1.5,0.6,0.4,1.6,0.8], 'd8':[0.8,0.75,0.85,0.9,0.8,0.7,0.9,0.9,0.7],\n",
    "                       'd9':[0.8,0.85,0.7,0.7,1.5,1.3,1.1,0.9,0.75,2], 'd10':[]}\n",
    "shrink_factors = shrink_factors_list[dx]\n",
    "\n",
    "for idx, shrink_factor in zip(indices, shrink_factors):\n",
    "    intersections.loc[(intersections['dx']==dx)&(intersections['id']==idx), 'radius'] *= shrink_factor"
   ]
  },
  {
   "attachments": {},
   "cell_type": "markdown",
   "metadata": {},
   "source": [
    "### Signalised or not"
   ]
  },
  {
   "cell_type": "code",
   "execution_count": null,
   "metadata": {},
   "outputs": [],
   "source": [
    "cmap = mpl.colors.ListedColormap(['tab:blue', 'tab:orange'])"
   ]
  },
  {
   "cell_type": "code",
   "execution_count": null,
   "metadata": {},
   "outputs": [],
   "source": [
    "int2inspect = intersections[(intersections['dx']==dx)&(intersections['keep'])].copy()\n",
    "int2inspect[['x','y']] = (int2inspect[['x','y']].values-[x0,y0]) @ rotateMatrix(-0.305*np.pi) + [x0,y0]\n",
    "data = pd.read_hdf(os.path.abspath('..') + '/InputData/pNEUMA/'+dx+'/data_20181029_'+dx+'_0930_1000.h5', key='data').reset_index()\n",
    "selected_frames = data['frame_id'].drop_duplicates().values\n",
    "selected_frames = selected_frames[np.arange(5,len(selected_frames),15)]\n",
    "data = data[data['frame_id'].isin(selected_frames)]\n",
    "data.sort_values(['track_id', 'frame_id'])\n",
    "data.loc[data['agent_type']!='Motorcycle', 'agent_type'] = 1\n",
    "data.loc[data['agent_type']=='Motorcycle', 'agent_type'] = 2\n",
    "data[['x','y']] = (data[['x','y']].values-[x0,y0]) @ rotateMatrix(-0.305*np.pi) + [x0,y0]\n",
    "\n",
    "check_id = -1"
   ]
  },
  {
   "cell_type": "code",
   "execution_count": null,
   "metadata": {},
   "outputs": [],
   "source": [
    "check_id -= 2"
   ]
  },
  {
   "cell_type": "code",
   "execution_count": null,
   "metadata": {},
   "outputs": [],
   "source": [
    "# repeat for each intersection\n",
    "check_id += 1\n",
    "intersection = int2inspect.iloc[check_id]\n",
    "data_int = data[(data['x']-intersection['x'])**2+(data['y']-intersection['y'])**2<intersection['radius']**2]\n",
    "\n",
    "for frame in data_int['frame_id'].unique():\n",
    "    df = data_int[data_int['frame_id']==frame]\n",
    "    fig, ax = plt.subplots(figsize=(4,4))\n",
    "    ax.scatter(data_int['x'], data_int['y'], s=0.1, c='gainsboro')\n",
    "    ax.scatter(df['x'], df['y'], c=df['agent_type'], cmap=cmap)\n",
    "    for track in df['track_id'].unique():\n",
    "        df_track = data_int[(data_int['track_id']==track)&(data_int['frame_id']<=frame)]\n",
    "        color = 'tab:blue' if df_track['agent_type'].iloc[0]==1 else 'tab:orange'\n",
    "        ax.plot(df_track['x'], df_track['y'], c=color, lw=0.5)\n",
    "    ax.set_xlim([intersection['x']-intersection['radius'], intersection['x']+intersection['radius']])\n",
    "    ax.set_ylim([intersection['y']-intersection['radius'], intersection['y']+intersection['radius']])\n",
    "    ax.set_aspect('equal')\n",
    "    ax.set_title('id: ' + str(intersection['id']) + ', time: ' + str(df['time'].iloc[0]))\n",
    "    clear_output(wait=True)\n",
    "    display(fig)\n",
    "    # time.sleep(0.1)\n",
    "    plt.close()"
   ]
  },
  {
   "cell_type": "code",
   "execution_count": null,
   "metadata": {},
   "outputs": [],
   "source": [
    "dx"
   ]
  },
  {
   "cell_type": "code",
   "execution_count": null,
   "metadata": {},
   "outputs": [],
   "source": [
    "unsignalized_list = {'d1':[2,6,13], 'd2':[18,], \n",
    "                     'd3':[], 'd4':[16], \n",
    "                     'd5':[12], 'd6':[], \n",
    "                     'd7':[10], 'd8':[0,2,19,20,27,36], \n",
    "                     'd9':[7,11,14,16,20,26,42,44], 'd10':[]}\n",
    "unsignalized = unsignalized_list[dx]\n",
    "\n",
    "# # In addition, remove intersections that have too few vehicles crossing through -- and cannot be determined as signalized or unsignalized\n",
    "# remove_list = {'d1':[], 'd2':[], \n",
    "#                'd3':[], 'd4':[], \n",
    "#                'd5':[], 'd6':[], \n",
    "#                'd7':[10], 'd8':[17,4,20,10], \n",
    "#                'd9':[28,7,17], 'd10':[14]}\n",
    "# remove = remove_list[dx]\n",
    "\n",
    "intersections.loc[(intersections['dx']==dx)&(intersections['id'].isin(unsignalized)), 'signalized'] = 0\n",
    "# intersections.loc[(intersections['dx']==dx)&(intersections['id'].isin(remove)), 'keep'] = False\n",
    "# intersections.loc[(intersections['dx']==dx)&(intersections['id'].isin(remove)), 'signalized'] = -1"
   ]
  },
  {
   "attachments": {},
   "cell_type": "markdown",
   "metadata": {},
   "source": [
    "### Update information and save selected intersections"
   ]
  },
  {
   "cell_type": "code",
   "execution_count": null,
   "metadata": {},
   "outputs": [],
   "source": [
    "intersections[(intersections['dx']==dx)]"
   ]
  },
  {
   "cell_type": "code",
   "execution_count": null,
   "metadata": {},
   "outputs": [],
   "source": [
    "intersections.to_csv(data_path + 'intersections_all.csv', index=False)\n",
    "intersections = intersections[intersections['keep']]\n",
    "intersections.drop(columns=['keep']).to_csv(data_path + 'selected_intersections.csv', index=False)"
   ]
  },
  {
   "attachments": {},
   "cell_type": "markdown",
   "metadata": {},
   "source": [
    "## Merge intersections in overlapping areas"
   ]
  },
  {
   "cell_type": "code",
   "execution_count": null,
   "metadata": {},
   "outputs": [],
   "source": [
    "# selected_intersections = pd.read_csv(data_path + 'selected_intersections.csv')\n",
    "selected_intersections = pd.read_csv(data_path + 'target_intersections.csv')\n",
    "\n",
    "roads = []\n",
    "for dx in tqdm(['d'+str(did+1) for did in range(10)]):\n",
    "    road = pd.read_hdf(data_path+'trajectories/'+dx+'_roads.h5', key='data')\n",
    "    road['dx'] = dx\n",
    "    roads.append(road)\n",
    "roads = pd.concat(roads)\n",
    "\n",
    "x0, y0 = trajectories[['x','y']].mean().values\n",
    "roads[['x','y']] = (roads[['x','y']].values-[x0,y0]) @ rotateMatrix(-0.305*np.pi) + [x0,y0]\n",
    "int2plot = selected_intersections.copy()\n",
    "int2plot[['x','y']] = (selected_intersections[['x','y']].values-[x0,y0]) @ rotateMatrix(-0.305*np.pi) + [x0,y0]"
   ]
  },
  {
   "cell_type": "code",
   "execution_count": null,
   "metadata": {},
   "outputs": [],
   "source": [
    "xlim = [0,2500]\n",
    "road2plot = roads[(roads['x']>xlim[0])&(roads['x']<xlim[1])]\n",
    "ints2inspect = int2plot[(selected_intersections['x']>xlim[0])&(selected_intersections['x']<xlim[1])]\n",
    "fig, ax = plt.subplots(figsize=(15,15))\n",
    "ax.scatter(road2plot['x'], road2plot['y'], s=0.1, c='grey')\n",
    "\n",
    "int2inspect = ints2inspect[ints2inspect['signalized']>0.5]\n",
    "for i in range(len(int2inspect)):\n",
    "    ax.scatter(int2inspect['x'], int2inspect['y'], s=5, c='b')\n",
    "    circle = plt.Circle((int2inspect.iloc[i]['x'], int2inspect.iloc[i]['y']), int2inspect.iloc[i]['radius'], color='b', fill=False)\n",
    "    ax.add_artist(circle)\n",
    "    # ax.text(int2inspect.iloc[i]['x'], int2inspect.iloc[i]['y']+int2inspect.iloc[i]['radius'], \n",
    "    #          str(int2inspect.iloc[i]['dx'])+'+'+str(int(int2inspect.iloc[i]['id'])), \n",
    "    #          fontsize=11, color='b')\n",
    "    \n",
    "int2inspect = ints2inspect[ints2inspect['signalized']<0.5]\n",
    "for i in range(len(int2inspect)):\n",
    "    ax.scatter(int2inspect['x'], int2inspect['y'], s=5, c='r')\n",
    "    circle = plt.Circle((int2inspect.iloc[i]['x'], int2inspect.iloc[i]['y']), int2inspect.iloc[i]['radius'], color='r', fill=False)\n",
    "    ax.add_artist(circle)\n",
    "    # ax.text(int2inspect.iloc[i]['x'], int2inspect.iloc[i]['y']+int2inspect.iloc[i]['radius'], \n",
    "    #          str(int2inspect.iloc[i]['dx'])+'+'+str(int(int2inspect.iloc[i]['id'])), \n",
    "    #          fontsize=11, color='r')\n",
    "\n",
    "ax.set_aspect('equal')"
   ]
  },
  {
   "cell_type": "code",
   "execution_count": null,
   "metadata": {},
   "outputs": [],
   "source": [
    "selected_intersections['keep'] = True\n",
    "\n",
    "remove_dx = ['d7','d9','d6','d9','d9','d9','d9','d6','d10','d6']\n",
    "remove_id = [11,22,27,22,9,5,4,6,4,10]\n",
    "selected_intersections.loc[(selected_intersections['dx'].isin(remove_dx))&(selected_intersections['id'].isin(remove_id)), 'keep'] = False\n",
    "\n",
    "merge_points_i_dx = ['d7','d6','d9']\n",
    "merge_points_i_id = [10,0,13]\n",
    "\n",
    "merge_points_j_dx = ['d6','d9','d9']\n",
    "merge_points_j_id = [24,0,28]\n",
    "\n",
    "for i,j,dx_i,dx_j in zip(merge_points_i_id, merge_points_j_id, merge_points_i_dx, merge_points_j_dx):\n",
    "    x_i, y_i, radius_i = selected_intersections.loc[(selected_intersections['dx']==dx_i)&(selected_intersections['id']==i), ['x','y','radius']].values[0]\n",
    "    x_j, y_j, radius_j = selected_intersections.loc[(selected_intersections['dx']==dx_j)&(selected_intersections['id']==j), ['x','y','radius']].values[0]\n",
    "    d = np.sqrt((x_i-x_j)**2+(y_i-y_j)**2)\n",
    "    merged_radius = (radius_i + radius_j + d)/2\n",
    "    merged_x = x_i + (x_j-x_i)*(merged_radius-radius_i)/d\n",
    "    merged_y = y_i + (y_j-y_i)*(merged_radius-radius_i)/d\n",
    "    selected_intersections.loc[(selected_intersections['dx']==dx_i)&(selected_intersections['id']==i), ['x','y','radius']] = [merged_x, merged_y, merged_radius]\n",
    "    selected_intersections.loc[(selected_intersections['dx']==dx_j)&(selected_intersections['id']==j), 'keep'] = False\n",
    "    selected_intersections.loc[(selected_intersections['dx']==dx_j)&(selected_intersections['id']==j), 'note'] = 'Merged with '+str(i)\n",
    "\n",
    "selected_intersections.to_csv(data_path + 'selected_intersections.csv', index=False)"
   ]
  },
  {
   "cell_type": "code",
   "execution_count": null,
   "metadata": {},
   "outputs": [],
   "source": [
    "selected_intersections = selected_intersections[selected_intersections['keep']].drop(columns=['keep','note'])\n",
    "selected_intersections.to_csv(data_path + 'target_intersections.csv', index=False)"
   ]
  },
  {
   "attachments": {},
   "cell_type": "markdown",
   "metadata": {},
   "source": [
    "## Figure maker"
   ]
  },
  {
   "attachments": {},
   "cell_type": "markdown",
   "metadata": {},
   "source": [
    "Intersections"
   ]
  },
  {
   "cell_type": "code",
   "execution_count": null,
   "metadata": {},
   "outputs": [],
   "source": [
    "figure_path = r'C:/SURFdrive/PhD progress/PhDResearch/1_DriverSpaceInference/Journal paper/Figures/'"
   ]
  },
  {
   "cell_type": "code",
   "execution_count": null,
   "metadata": {},
   "outputs": [],
   "source": [
    "selected_intersections = pd.read_csv(data_path + 'target_intersections.csv')"
   ]
  },
  {
   "cell_type": "code",
   "execution_count": null,
   "metadata": {},
   "outputs": [],
   "source": [
    "trajectories = []\n",
    "roads = []\n",
    "for dx in tqdm(['d'+str(did+1) for did in range(10)]):\n",
    "    trajectory = pd.read_hdf(data_path+'trajectories/simplified_trajectories_'+dx+'.h5', key='data')\n",
    "    trajectory['dx'] = dx\n",
    "    road = pd.read_hdf(data_path+'trajectories/'+dx+'_roads.h5', key='data')\n",
    "    road['dx'] = dx\n",
    "    trajectories.append(trajectory)\n",
    "    roads.append(road)\n",
    "trajectories = pd.concat(trajectories)\n",
    "roads = pd.concat(roads)"
   ]
  },
  {
   "cell_type": "code",
   "execution_count": null,
   "metadata": {},
   "outputs": [],
   "source": [
    "traj2plot = trajectories.copy()\n",
    "road2plot = roads.copy()\n",
    "int2plot = selected_intersections.copy()\n",
    "\n",
    "x0, y0 = trajectories[['x','y']].mean().values\n",
    "traj2plot[['x','y']] = (trajectories[['x','y']].values-[x0,y0]) @ rotateMatrix(-0.305*np.pi) + [x0,y0]\n",
    "road2plot[['x','y']] = (roads[['x','y']].values-[x0,y0]) @ rotateMatrix(-0.305*np.pi) + [x0,y0]\n",
    "int2plot[['x','y']] = (selected_intersections[['x','y']].values-[x0,y0]) @ rotateMatrix(-0.305*np.pi) + [x0,y0]"
   ]
  },
  {
   "cell_type": "code",
   "execution_count": null,
   "metadata": {},
   "outputs": [],
   "source": [
    "fig, ax = plt.subplots(figsize=(5,4))\n",
    "\n",
    "lines = [line[['x','y']].values for _, line in road2plot.groupby(['dx','track_id'])[['x','y']]]\n",
    "lc = mpl.collections.LineCollection(lines, color='k', linewidth=0.5, alpha=1, rasterized=True)\n",
    "ax.add_collection(lc)\n",
    "ax.set_xlim(road2plot['x'].min()-10, road2plot['x'].max()+10)\n",
    "ax.set_ylim(road2plot['y'].min()-10, road2plot['y'].max()+10)\n",
    "ax.set_aspect('equal')\n",
    "ax.axis('off')\n",
    "\n",
    "# Signalized intersections\n",
    "int2inspect = int2plot[int2plot['signalized']>0.5]\n",
    "for i in range(len(int2inspect)):\n",
    "    circle = plt.Circle((int2inspect.iloc[i]['x'], int2inspect.iloc[i]['y']), int2inspect.iloc[i]['radius'], color='b', alpha=0.6, fill=False, ls='--', label='l')\n",
    "    ax.add_artist(circle)\n",
    "\n",
    "int2inspect = int2plot[int2plot['signalized']<0.5]\n",
    "for i in range(len(int2inspect)):\n",
    "    circle = plt.Circle((int2inspect.iloc[i]['x'], int2inspect.iloc[i]['y']), int2inspect.iloc[i]['radius'], color='r', fill=False)\n",
    "    ax.add_artist(circle)\n",
    "\n",
    "ax.set_aspect('equal')\n",
    "c1 = plt.scatter([],[],label='Unsignalised intersection', marker='o', ec='r', fc='none', s=80)\n",
    "c2 = plt.scatter([],[],label='Signalised intersection', marker='o', ec='b', fc='none', ls='--', alpha=0.6, s=80)\n",
    "ax.legend(handles=[c1, c2], loc='upper right', fontsize=9, bbox_to_anchor=(1.0, 0.9), handletextpad=0.1)"
   ]
  },
  {
   "cell_type": "code",
   "execution_count": null,
   "metadata": {},
   "outputs": [],
   "source": [
    "fig.savefig(figure_path+'Map_intersections.pdf', dpi=600, bbox_inches='tight')"
   ]
  },
  {
   "cell_type": "code",
   "execution_count": null,
   "metadata": {},
   "outputs": [],
   "source": [
    "int2plot[int2plot['signalized']>0.5].shape"
   ]
  },
  {
   "attachments": {},
   "cell_type": "markdown",
   "metadata": {},
   "source": [
    "Straight roads"
   ]
  },
  {
   "cell_type": "code",
   "execution_count": null,
   "metadata": {},
   "outputs": [],
   "source": [
    "traj2plot = trajectories.copy()\n",
    "road2plot = roads.copy()\n",
    "int2plot = selected_intersections.copy()\n",
    "\n",
    "traj2plot[['x','y']] = (trajectories[['x','y']].values) @ rotateMatrix(-0.052*np.pi)\n",
    "traj2plot[['hx','hy']] = (trajectories[['hx','hy']].values) @ rotateMatrix(-0.052*np.pi)\n",
    "road2plot[['x','y']] = (roads[['x','y']].values) @ rotateMatrix(-0.052*np.pi)\n",
    "int2plot[['x','y']] = (selected_intersections[['x','y']].values) @ rotateMatrix(-0.052*np.pi)"
   ]
  },
  {
   "cell_type": "code",
   "execution_count": null,
   "metadata": {},
   "outputs": [],
   "source": [
    "trajectories['selected'] = 0\n",
    "condition1 = ((traj2plot['x']>=385)&(traj2plot['x']<=425)&\n",
    "              (traj2plot['y']>=1200)&(traj2plot['y']<=2100)&\n",
    "              (abs(traj2plot['hx'])<=np.sin(10/180*np.pi))&(abs(traj2plot['hy'])>=np.cos(10/180*np.pi)))\n",
    "condition2 = ((traj2plot['x']>=505)&(traj2plot['x']<=545)&\n",
    "              (traj2plot['y']>=1200)&(traj2plot['y']<=2100)&\n",
    "              (abs(traj2plot['hx'])<=np.sin(10/180*np.pi))&(abs(traj2plot['hy'])>=np.cos(10/180*np.pi)))\n",
    "trajectories.loc[condition1, 'selected'] = 1\n",
    "trajectories.loc[condition2, 'selected'] = 2\n",
    "\n",
    "road1 = pd.DataFrame({'x':[425, 425, 385, 385], 'y':[1200, 2100, 1200, 2100]})\n",
    "road2 = pd.DataFrame({'x':[545, 545, 505, 505], 'y':[1200, 2100, 1200, 2100]})\n",
    "road1[['x','y']] = (road1[['x','y']].values) @ rotateMatrix(0.052*np.pi)\n",
    "road2[['x','y']] = (road2[['x','y']].values) @ rotateMatrix(0.052*np.pi)"
   ]
  },
  {
   "cell_type": "code",
   "execution_count": null,
   "metadata": {},
   "outputs": [],
   "source": [
    "traj2plot = trajectories.copy()\n",
    "traj2plot[['x','y']] = (trajectories[['x','y']].values-[x0,y0]) @ rotateMatrix(-0.305*np.pi) + [x0,y0]\n",
    "road2plot[['x','y']] = (roads[['x','y']].values-[x0,y0]) @ rotateMatrix(-0.305*np.pi) + [x0,y0]\n",
    "int2plot[['x','y']] = (selected_intersections[['x','y']].values-[x0,y0]) @ rotateMatrix(-0.305*np.pi) + [x0,y0]\n",
    "road1[['x','y']] = (road1[['x','y']].values-[x0,y0]) @ rotateMatrix(-0.305*np.pi) + [x0,y0]\n",
    "road2[['x','y']] = (road2[['x','y']].values-[x0,y0]) @ rotateMatrix(-0.305*np.pi) + [x0,y0]"
   ]
  },
  {
   "cell_type": "code",
   "execution_count": null,
   "metadata": {},
   "outputs": [],
   "source": [
    "fig, ax = plt.subplots(figsize=(3.5,3))\n",
    "\n",
    "lines = [line[['x','y']].values for _, line in road2plot.groupby(['dx','track_id'])[['x','y']]]\n",
    "lc = mpl.collections.LineCollection(lines, color='k', linewidth=0.5, alpha=1)\n",
    "ax.add_collection(lc)\n",
    "points = MultiPoint(road1[['x','y']].values)\n",
    "ax.plot(*points.convex_hull.exterior.xy, color='r', linewidth=1, alpha=1)\n",
    "points = MultiPoint(road2[['x','y']].values)\n",
    "ax.plot(*points.convex_hull.exterior.xy, color='r', linewidth=1, alpha=1)\n",
    "ax.set_xlim(road2plot['x'].min()-10, road2plot['x'].max()+10)\n",
    "ax.set_ylim(road2plot['y'].min()-10, road2plot['y'].max()+10)\n",
    "ax.set_aspect('equal')\n",
    "ax.axis('off')\n",
    "legend = mpl.patches.Patch(edgecolor='r', facecolor='none', label='Selected roads')\n",
    "ax.legend(handles=[legend], loc='upper right', fontsize=9, bbox_to_anchor=(0.95, 0.9))"
   ]
  },
  {
   "cell_type": "code",
   "execution_count": null,
   "metadata": {},
   "outputs": [],
   "source": [
    "fig.savefig(figure_path+'Map_straight_roads.pdf', dpi=600, bbox_inches='tight')"
   ]
  },
  {
   "cell_type": "code",
   "execution_count": null,
   "metadata": {},
   "outputs": [],
   "source": []
  }
 ],
 "metadata": {
  "kernelspec": {
   "display_name": "conflict",
   "language": "python",
   "name": "python3"
  },
  "language_info": {
   "codemirror_mode": {
    "name": "ipython",
    "version": 3
   },
   "file_extension": ".py",
   "mimetype": "text/x-python",
   "name": "python",
   "nbconvert_exporter": "python",
   "pygments_lexer": "ipython3",
   "version": "3.12.9"
  },
  "orig_nbformat": 4
 },
 "nbformat": 4,
 "nbformat_minor": 2
}
