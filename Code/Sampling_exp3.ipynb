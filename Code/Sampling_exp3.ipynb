{
 "cells": [
  {
   "attachments": {},
   "cell_type": "markdown",
   "metadata": {},
   "source": [
    "# Sampling for experiment 2: impact of intersection layout (Section 5.1)"
   ]
  },
  {
   "cell_type": "code",
   "execution_count": null,
   "metadata": {},
   "outputs": [],
   "source": [
    "import sys\n",
    "import glob\n",
    "from tqdm import tqdm\n",
    "import pandas as pd\n",
    "import numpy as np\n",
    "from itertools import combinations\n",
    "import matplotlib.pyplot as plt\n",
    "from matplotlib.path import Path\n",
    "from matplotlib.patches import PathPatch, Patch\n",
    "from matplotlib.collections import PatchCollection\n",
    "import matplotlib as mpl\n",
    "mpl.rc('font',family='Arial')\n",
    "from shapely.geometry import Point, Polygon\n",
    "from IPython.display import display, clear_output\n",
    "sys.path.append('MapVis/python')\n",
    "import main_visualize_data as vs\n",
    "import warnings\n",
    "warnings.filterwarnings('ignore')\n",
    "import os\n",
    "\n",
    "parent_dir = os.path.abspath('..') # Set your parent directory here. "
   ]
  },
  {
   "attachments": {},
   "cell_type": "markdown",
   "metadata": {},
   "source": [
    "## Functions"
   ]
  },
  {
   "cell_type": "code",
   "execution_count": null,
   "metadata": {},
   "outputs": [],
   "source": [
    "def angle(vec1x, vec1y, vec2x, vec2y):\n",
    "    sin = vec1x * vec2y - vec2x * vec1y  \n",
    "    cos = vec1x * vec2x + vec1y * vec2y\n",
    "    return -np.arctan2(sin, cos) * (180 / np.pi)\n",
    "\n",
    "def cortrans(xyaxis, yyaxis, x2t, y2t):\n",
    "    x = yyaxis/np.sqrt(xyaxis**2+yyaxis**2)*x2t-xyaxis/np.sqrt(xyaxis**2+yyaxis**2)*y2t\n",
    "    y = xyaxis/np.sqrt(xyaxis**2+yyaxis**2)*x2t+yyaxis/np.sqrt(xyaxis**2+yyaxis**2)*y2t\n",
    "    return x, y\n",
    "\n",
    "def Grouping(samples, vehnum):\n",
    "    samples = samples.sort_values(by='v')\n",
    "    samples['round_v'] = np.round(samples.v,1)\n",
    "    groups = samples.groupby('round_v').x.count()\n",
    "    try:\n",
    "        threshold = groups[groups>=vehnum].index[-1]\n",
    "        sample1 = []\n",
    "        for roundv in samples[samples.round_v<=threshold].round_v.unique():\n",
    "            clear_output(wait=True)\n",
    "            print('--- '+str(roundv)+' ----')\n",
    "            sample = samples[samples.round_v==roundv]\n",
    "            if len(sample)>vehnum:\n",
    "                sample = sample.loc[np.random.choice(sample.index.values, vehnum)]\n",
    "            sample1.append(sample)\n",
    "        sample1 = pd.concat(sample1)\n",
    "    except:\n",
    "        threshold = 0\n",
    "        sample1 = samples[samples.round_v<0].copy()\n",
    "    sample2 = samples[samples.round_v>threshold].copy()\n",
    "    sample2['round_v'] = np.arange(len(sample2))//vehnum\n",
    "    sample2['round_v'] = (np.round(sample2.groupby('round_v').v.mean(),1)).reindex(sample2.round_v).values\n",
    "    samples = pd.concat((sample1, sample2))\n",
    "\n",
    "    return samples"
   ]
  },
  {
   "attachments": {},
   "cell_type": "markdown",
   "metadata": {},
   "source": [
    "## Read raw data"
   ]
  },
  {
   "cell_type": "code",
   "execution_count": null,
   "metadata": {},
   "outputs": [],
   "source": [
    "loc = 'DR_USA_Intersection_GL'\n",
    "data_files = sorted(glob.glob(parent_dir + '/RawDatasets/INTERACTION/INTERACTION-Dataset-DR-v1_1/recorded_trackfiles/' + loc + '/vehicle*.csv'))\n",
    "\n",
    "for data_file in tqdm(data_files):\n",
    "    data = pd.read_csv(data_file)\n",
    "    data['hx'] = np.cos(data.psi_rad)\n",
    "    data['hy'] = np.sin(data.psi_rad)    \n",
    "    data.to_hdf(parent_dir + '/InputData/INTERACTION/' + loc + '/' + data_file[-22:-3] + 'h5', key='data')"
   ]
  },
  {
   "cell_type": "code",
   "execution_count": null,
   "metadata": {},
   "outputs": [],
   "source": [
    "x_min,x_max,y_min,y_max = [data.x.min(), data.x.max(), data.y.min(), data.y.max()]"
   ]
  },
  {
   "attachments": {},
   "cell_type": "markdown",
   "metadata": {},
   "source": [
    "## Road segmentation"
   ]
  },
  {
   "cell_type": "code",
   "execution_count": null,
   "metadata": {},
   "outputs": [],
   "source": [
    "def createfig(t):\n",
    "    fig, ax = plt.subplots(figsize=(16,6))\n",
    "\n",
    "    lines = vs.draw_map(ax, 'DR_USA_Intersection_GL', xlim=[x_min-5, x_max+5], ylim=[y_min-5, y_max+5])\n",
    "    # ax.set_title('t = '+str(t/10)+' s')\n",
    "    ax.set(aspect='equal')\n",
    "    ax.set_xlabel('Global '+r'$x$'+' coordinate (m)')\n",
    "    ax.set_ylabel('Global '+r'$y$'+' coordinate (m)')\n",
    "\n",
    "    return fig, ax, lines\n",
    "\n",
    "def plotpolygon(xlist, ylist):\n",
    "    for i in range(len(xlist)):\n",
    "        plt.plot(xlist[i], ylist[i])\n",
    "        plt.text(xlist[i][0], ylist[i][0], str(i))\n",
    "        plt.gca().set_aspect('equal')\n",
    "\n",
    "_, _, lines = createfig(0)\n",
    "x_lists, y_lists, _ = lines\n",
    "plt.close()"
   ]
  },
  {
   "cell_type": "code",
   "execution_count": null,
   "metadata": {},
   "outputs": [],
   "source": [
    "x = []\n",
    "y = []\n",
    "\n",
    "x.append(x_lists[15][4:][::-1])\n",
    "y.append(y_lists[15][4:][::-1])\n",
    "\n",
    "x.append(x_lists[21])\n",
    "y.append(y_lists[21])\n",
    "\n",
    "x.append(x_lists[16])\n",
    "y.append(y_lists[16])\n",
    "\n",
    "xlist, ylist = (x,y)\n",
    "# plotpolygon(xlist, ylist)\n",
    "\n",
    "outmidright = Polygon(np.array([[e for x in xlist for e in x], [e for x in ylist for e in x]]).T)\n",
    "outmidright"
   ]
  },
  {
   "cell_type": "code",
   "execution_count": null,
   "metadata": {},
   "outputs": [],
   "source": [
    "x = []\n",
    "y = []\n",
    "\n",
    "x.append(x_lists[12][:-5])\n",
    "y.append(y_lists[12][:-5])\n",
    "\n",
    "x.append(x_lists[7][::-1])\n",
    "y.append(y_lists[7][::-1])\n",
    "\n",
    "x.append(x_lists[6][:-3][::-1])\n",
    "y.append(y_lists[6][:-3][::-1])\n",
    "\n",
    "xlist, ylist = (x,y)\n",
    "# plotpolygon(xlist, ylist)\n",
    "\n",
    "inmidright = Polygon(np.array([[e for x in xlist for e in x], [e for x in ylist for e in x]]).T)\n",
    "inmidright"
   ]
  },
  {
   "cell_type": "code",
   "execution_count": null,
   "metadata": {},
   "outputs": [],
   "source": [
    "x = []\n",
    "y = []\n",
    "\n",
    "x.append(x_lists[8])\n",
    "y.append(y_lists[8])\n",
    "\n",
    "x.append(x_lists[15][:4])\n",
    "y.append(y_lists[15][:4])\n",
    "\n",
    "x.append([(x_lists[2][-1]*0.6+x_lists[2][0]*0.4),x_lists[2][-1]][::-1])\n",
    "y.append([(y_lists[2][-1]*0.6+y_lists[2][0]*0.4),y_lists[2][-1]][::-1])\n",
    "\n",
    "x.append(x_lists[11][::-1])\n",
    "y.append(y_lists[11][::-1])\n",
    "\n",
    "xlist, ylist = (x,y)\n",
    "# plotpolygon(xlist, ylist)\n",
    "\n",
    "inmidleftdown = Polygon(np.array([[e for x in xlist for e in x], [e for x in ylist for e in x]]).T)\n",
    "inmidleftdown"
   ]
  },
  {
   "cell_type": "code",
   "execution_count": null,
   "metadata": {},
   "outputs": [],
   "source": [
    "x = []\n",
    "y = []\n",
    "\n",
    "x.append(x_lists[13][::-1])\n",
    "y.append(y_lists[13][::-1])\n",
    "\n",
    "x.append(x_lists[26][2:][::-1])\n",
    "y.append(y_lists[26][2:][::-1])\n",
    "\n",
    "x.append([(x_lists[2][-1]*0.6+x_lists[2][0]*0.4),x_lists[2][0]][::-1])\n",
    "y.append([(y_lists[2][-1]*0.6+y_lists[2][0]*0.4),y_lists[2][0]][::-1])\n",
    "\n",
    "x.append(x_lists[11][::-1])\n",
    "y.append(y_lists[11][::-1])\n",
    "\n",
    "xlist, ylist = (x,y)\n",
    "# plotpolygon(xlist, ylist)\n",
    "\n",
    "outmidleftdown = Polygon(np.array([[e for x in xlist for e in x], [e for x in ylist for e in x]]).T)\n",
    "outmidleftdown"
   ]
  },
  {
   "cell_type": "code",
   "execution_count": null,
   "metadata": {},
   "outputs": [],
   "source": [
    "x = []\n",
    "y = []\n",
    "\n",
    "x.append(x_lists[25])\n",
    "y.append(y_lists[25])\n",
    "\n",
    "x.append([(x_lists[31][-1]+x_lists[31][0])/2,x_lists[31][0]])\n",
    "y.append([(y_lists[31][-1]+y_lists[31][0])/2,y_lists[31][0]])\n",
    "\n",
    "x.append(x_lists[24])\n",
    "y.append(y_lists[24])\n",
    "\n",
    "xlist, ylist = (x,y)\n",
    "# plotpolygon(xlist, ylist)\n",
    "\n",
    "outmidleftup = Polygon(np.array([[e for x in xlist for e in x], [e for x in ylist for e in x]]).T)\n",
    "outmidleftup"
   ]
  },
  {
   "cell_type": "code",
   "execution_count": null,
   "metadata": {},
   "outputs": [],
   "source": [
    "x = []\n",
    "y = []\n",
    "\n",
    "x.append(x_lists[28])\n",
    "y.append(y_lists[28])\n",
    "\n",
    "x.append([(x_lists[31][-1]+x_lists[31][0])/2,x_lists[31][-1]][::-1])\n",
    "y.append([(y_lists[31][-1]+y_lists[31][0])/2,y_lists[31][-1]][::-1])\n",
    "\n",
    "x.append(x_lists[25][::-1])\n",
    "y.append(y_lists[25][::-1])\n",
    "\n",
    "xlist, ylist = (x,y)\n",
    "# plotpolygon(xlist, ylist)\n",
    "\n",
    "inmidleftup = Polygon(np.array([[e for x in xlist for e in x], [e for x in ylist for e in x]]).T)\n",
    "inmidleftup"
   ]
  },
  {
   "cell_type": "code",
   "execution_count": null,
   "metadata": {},
   "outputs": [],
   "source": [
    "x = []\n",
    "y = []\n",
    "\n",
    "x.append(x_lists[10])\n",
    "y.append(y_lists[10])\n",
    "\n",
    "x.append(x_lists[0][:])\n",
    "y.append(y_lists[0][:])\n",
    "\n",
    "x.append([(x_lists[4][0]+x_lists[4][-1])/2,x_lists[4][0]])\n",
    "y.append([(y_lists[4][0]+y_lists[4][-1])/2,y_lists[4][0]])\n",
    "\n",
    "x.append(x_lists[9][1:])\n",
    "y.append(y_lists[9][1:])\n",
    "\n",
    "xlist, ylist = (x,y)\n",
    "# plotpolygon(xlist, ylist)\n",
    "\n",
    "outleft = Polygon(np.array([[e for x in xlist for e in x], [e for x in ylist for e in x]]).T)\n",
    "outleft"
   ]
  },
  {
   "cell_type": "code",
   "execution_count": null,
   "metadata": {},
   "outputs": [],
   "source": [
    "x = []\n",
    "y = []\n",
    "\n",
    "x.append(x_lists[10])\n",
    "y.append(y_lists[10])\n",
    "\n",
    "x.append(x_lists[0][:])\n",
    "y.append(y_lists[0][:])\n",
    "\n",
    "x.append([(x_lists[4][0]+x_lists[4][-1])/2,x_lists[4][-1]])\n",
    "y.append([(y_lists[4][0]+y_lists[4][-1])/2,y_lists[4][-1]])\n",
    "\n",
    "x.append(x_lists[30][::-1])\n",
    "y.append(y_lists[30][::-1])\n",
    "\n",
    "xlist, ylist = (x,y)\n",
    "# plotpolygon(xlist, ylist)\n",
    "\n",
    "inleft = Polygon(np.array([[e for x in xlist for e in x], [e for x in ylist for e in x]]).T)\n",
    "inleft"
   ]
  },
  {
   "cell_type": "code",
   "execution_count": null,
   "metadata": {},
   "outputs": [],
   "source": [
    "x = []\n",
    "y = []\n",
    "\n",
    "x.append(x_lists[5][1:][::-1])\n",
    "y.append(y_lists[5][1:][::-1])\n",
    "\n",
    "x.append(x_lists[21][::-1])\n",
    "y.append(y_lists[21][::-1])\n",
    "\n",
    "x.append(x_lists[15][3:5][::-1])\n",
    "y.append(y_lists[15][3:5][::-1])\n",
    "\n",
    "x.append(x_lists[2][:][::-1])\n",
    "y.append(y_lists[2][:][::-1])\n",
    "\n",
    "x.append(x_lists[4][:][::-1])\n",
    "y.append(y_lists[4][:][::-1])\n",
    "\n",
    "x.append(x_lists[27][2:][::-1])\n",
    "y.append(y_lists[27][2:][::-1])\n",
    "\n",
    "x.append(x_lists[31][:][::-1])\n",
    "y.append(y_lists[31][:][::-1])\n",
    "\n",
    "x.append(x_lists[7][:][::-1])\n",
    "y.append(y_lists[7][:][::-1])\n",
    "\n",
    "x.append(x_lists[6][8:])\n",
    "y.append(y_lists[6][8:])\n",
    "\n",
    "xlist, ylist = (x,y)\n",
    "# plotpolygon(xlist, ylist)\n",
    "\n",
    "inside = Polygon(np.array([[e for x in xlist for e in x], [e for x in ylist for e in x]]).T)\n",
    "inside"
   ]
  },
  {
   "cell_type": "code",
   "execution_count": null,
   "metadata": {},
   "outputs": [],
   "source": [
    "data_files = sorted(glob.glob(parent_dir + '/InputData/INTERACTION/DR_USA_Intersection_GL/*.h5'))\n",
    "\n",
    "for data_file in tqdm(data_files):    \n",
    "    data = pd.read_hdf(data_file, key='data')\n",
    "    \n",
    "    positions = np.empty(len(data)).astype(str)\n",
    "    poses = np.empty(len(data))\n",
    "    for poly, position, pos in zip([outmidright, inmidright, inmidleftdown, outmidleftdown, outmidleftup, inmidleftup, outleft, inleft, inside],\n",
    "                                   ['out_midright', 'in_midright', 'in_midleftdown', 'out_midleftdown', 'out_midleftup', 'in_midleftup', 'out_left', 'in_left', 'inside'],\n",
    "                                   [-1, 1, 1, -1, -1, 1, -1, 1, 0]):\n",
    "        PointIn = data.apply(lambda x: Point(x[['x','y']].values).within(poly), axis=1).values\n",
    "        positions[PointIn] = position\n",
    "        poses[PointIn] = pos\n",
    "    poses[(poses!=-1)&(poses!=1)&(poses!=0)] = 0\n",
    "    positions[(poses!=-1)&(poses!=1)] = 'inside'\n",
    "    data['position'] = positions\n",
    "    data['pos'] = poses\n",
    "    \n",
    "    data.to_hdf(data_file, key='data')"
   ]
  },
  {
   "attachments": {},
   "cell_type": "markdown",
   "metadata": {},
   "source": [
    "## Map figure maker"
   ]
  },
  {
   "cell_type": "code",
   "execution_count": null,
   "metadata": {},
   "outputs": [],
   "source": [
    "mpl.rc('hatch', color='w', linewidth=0.2)\n",
    "def plot_polygon(ax, poly, **kwargs):\n",
    "    path = Path.make_compound_path(\n",
    "           Path(np.asarray(poly.exterior.coords)[:, :2]),\n",
    "           *[Path(np.asarray(ring.coords)[:, :2]) for ring in poly.interiors])\n",
    "\n",
    "    patch = PathPatch(path, **kwargs)\n",
    "    collection = PatchCollection([patch], **kwargs)\n",
    "    \n",
    "    ax.add_collection(collection, autolim=True)\n",
    "    return collection\n",
    "\n",
    "E_min, E_max, N_min, N_max = [930.805-15, 1039.831+5, 958.158-25, 1027.282+10]\n",
    "fig, ax = plt.subplots(figsize=(3,3))\n",
    "lines = vs.draw_map(ax, 'DR_USA_Intersection_GL', xlim=[x_min-5, x_max+5], ylim=[y_min-5, y_max+5])\n",
    "polygons = [outmidright, inmidright, inmidleftdown, outmidleftdown, outmidleftup, inmidleftup, outleft, inleft, inside]\n",
    "colors = ['tab:green','tab:red','tab:red','tab:green','tab:green','tab:red','tab:green','tab:red','tab:blue']\n",
    "hatches = ['/////','\\\\\\\\\\\\\\\\\\\\\\\\','\\\\\\\\\\\\\\\\\\\\\\\\','/////','\\\\\\\\\\\\\\\\\\\\\\\\','/////','\\\\\\\\\\\\\\\\\\\\\\\\','/////',None]\n",
    "for polygon,color,hatch in zip(polygons,colors,hatches):\n",
    "    plot_polygon(ax, polygon, facecolor=color, edgecolor='none', alpha=0.3, lw=0.5, hatch=hatch, label='polygon')\n",
    "handles, labels = ax.get_legend_handles_labels()\n",
    "ax.set_xlim(E_min+21, E_max)\n",
    "ax.set_ylim(N_min-3, N_max-5)\n",
    "ax.set_aspect('equal')\n",
    "ax.set_axis_off()\n",
    "handles = [Patch(color='tab:red', alpha=0.3, hatch='/////', ec='w'), \n",
    "           Patch(color='tab:green', alpha=0.3, hatch='\\\\\\\\\\\\\\\\\\\\\\\\', ec='w'), \n",
    "           Patch(color='tab:blue', alpha=0.3, ec='none')]\n",
    "ax.legend(handles, ['Entering', 'Exiting', 'Inside'], loc='lower left', bbox_to_anchor=(-0.04, 0.05), frameon=False, fontsize=9)\n",
    "\n",
    "# for i in range(len(x_lists)):\n",
    "    # plt.plot(x_lists[i], y_lists[i], lw=2)\n",
    "    # plt.text(x_lists[i][1], y_lists[i][1], str(i))\n",
    "# plt.scatter(data.x, data.y, c=poses, s=1)"
   ]
  },
  {
   "cell_type": "code",
   "execution_count": null,
   "metadata": {},
   "outputs": [],
   "source": [
    "figure_path = r'C:/SURFdrive/PhD progress/PhDResearch/1_DriverSpaceInference/Journal paper/Figures/'\n",
    "fig.savefig(figure_path + 'GL_map.pdf', bbox_inches='tight', dpi=600)"
   ]
  },
  {
   "cell_type": "code",
   "execution_count": null,
   "metadata": {},
   "outputs": [],
   "source": [
    "(N_max-10-(N_min+15))/(E_max-(E_min+20))*3"
   ]
  },
  {
   "attachments": {},
   "cell_type": "markdown",
   "metadata": {},
   "source": [
    "## Load data"
   ]
  },
  {
   "cell_type": "code",
   "execution_count": null,
   "metadata": {},
   "outputs": [],
   "source": [
    "data_files = sorted(glob.glob(parent_dir + '/InputData/INTERACTION/DR_USA_Intersection_GL/*.h5'))\n",
    "\n",
    "data = []\n",
    "for data_file in tqdm(data_files):\n",
    "    df = pd.read_hdf(data_file, key='data', mode='r+')\n",
    "    file_id = int(data_file[-6:-3])\n",
    "    df['file_id'] = file_id\n",
    "    df['frame_id'] = (file_id * 1e4 + df['frame_id']).astype(int)\n",
    "    df['track_id'] = (file_id * 1e3 + df['track_id']).astype(int)\n",
    "    df['unique_id'] = (df['track_id'] * 1e4 + df['frame_id'] % 1e4).astype(int)\n",
    "    data.append(df)\n",
    "data = pd.concat(data)\n",
    "\n",
    "data = data.reset_index()\n",
    "data = data.dropna()"
   ]
  },
  {
   "cell_type": "code",
   "execution_count": null,
   "metadata": {},
   "outputs": [],
   "source": [
    "print('There are {} vehicles'.format(len(data.track_id.drop_duplicates())))\n",
    "print('{:.2f} hours of data is recorded'.format(len(data.frame_id.drop_duplicates())/10/60/60))\n",
    "print('The distance range is {:.2f} m'.format(data.x.max() - data.x.min()))"
   ]
  },
  {
   "attachments": {},
   "cell_type": "markdown",
   "metadata": {},
   "source": [
    "## Sampling"
   ]
  },
  {
   "cell_type": "code",
   "execution_count": null,
   "metadata": {},
   "outputs": [],
   "source": [
    "# correct heading directions\n",
    "data.loc[np.sign(data.vx)*np.sign(data.hx)==-1, 'hx'] = -data[np.sign(data.vx)*np.sign(data.hx)==-1].hx\n",
    "data.loc[np.sign(data.vy)*np.sign(data.hy)==-1, 'hy'] = -data[np.sign(data.vy)*np.sign(data.hy)==-1].hy"
   ]
  },
  {
   "cell_type": "code",
   "execution_count": null,
   "metadata": {},
   "outputs": [],
   "source": [
    "pair_idx = data.groupby('frame_id').apply(lambda x : pd.DataFrame.from_records(combinations(x.unique_id, 2)))\n",
    "\n",
    "pairs = pd.DataFrame({'frame_id':pair_idx.index.get_level_values(0).astype(int), 'i':(pair_idx[0]//1e4).astype(int), 'j':(pair_idx[1]//1e4).astype(int)})\n",
    "pairs['file_id'] = data.reindex(index=pair_idx[0].values)['file_id'].values\n",
    "pairs[['x_i','y_i','vx_i','vy_i','hx_i','hy_i','length_i','width_i','pos_i']] = data.set_index('unique_id').reindex(index=pair_idx[0].values)[['x','y','vx','vy','hx','hy','length','width','pos']].values\n",
    "pairs[['x_j','y_j','vx_j','vy_j','hx_j','hy_j','length_j','width_j','pos_j']] = data.set_index('unique_id').reindex(index=pair_idx[1].values)[['x','y','vx','vy','hx','hy','length','width','pos']].values\n",
    "pairs = pairs[(pairs.pos_i*pairs.pos_j)>-0.5] # vehicles in the entering lane cannot interact with vehicles in the exit lane\n",
    "data = []\n",
    "\n",
    "dvx = pairs['vx_i']-pairs['vx_j']\n",
    "dvy = pairs['vy_i']-pairs['vy_j']\n",
    "pairs = pairs[(dvx!=0)|(dvy!=0)] # proximity resistance cannot be computed for two vehicles with a relative velocity of (0,0)\n",
    "pairs['x'] = dvy/np.sqrt(dvx**2+dvy**2)*(pairs.x_j-pairs.x_i)-dvx/np.sqrt(dvx**2+dvy**2)*(pairs.y_j-pairs.y_i)\n",
    "pairs['y'] = dvx/np.sqrt(dvx**2+dvy**2)*(pairs.x_j-pairs.x_i)+dvy/np.sqrt(dvx**2+dvy**2)*(pairs.y_j-pairs.y_i)\n",
    "pairs['v'] = np.sqrt(dvx**2 + dvy**2)\n",
    "pairs['vi'] = np.sqrt(pairs.vx_i**2+pairs.vy_i**2)\n",
    "pairs['vj'] = np.sqrt(pairs.vx_j**2+pairs.vy_j**2)\n",
    "\n",
    "pairs = pairs[(abs(pairs.x)<15)&(abs(pairs.y)<100)]\n",
    "\n",
    "# remove overlapping (<0.5m) vehicles\n",
    "remove_list = pairs[(pairs.x**2+pairs.y**2)<0.25].j.drop_duplicates().values\n",
    "pairs = pairs[(~np.isin(pairs.j, remove_list))&(~np.isin(pairs.i, remove_list))]\n",
    "\n",
    "# with or without lateral interaction\n",
    "canglev = angle(pairs.hx_i, pairs.hy_i, pairs.hx_j, pairs.hy_j)\n",
    "cangle = np.empty(canglev.shape)\n",
    "cangle[abs(canglev)<5] = 0\n",
    "cangle[abs(canglev)>175] = 0\n",
    "cangle[(canglev<=175)&(canglev>=5)] = 1\n",
    "cangle[(canglev>=-175)&(canglev<=-5)] = 1\n",
    "pairs['cangle'] = cangle\n",
    "pairs['cangle_deg'] = canglev\n",
    "\n",
    "pairs = pairs.reset_index(drop=True)[['x','y','v','vi','vj','cangle','cangle_deg']]\n",
    "pairs.to_hdf(parent_dir + '/OutputData/DriverSpace/SurroundingSampling/IntersectionGL/samples_GL.h5', key='samples')"
   ]
  },
  {
   "attachments": {},
   "cell_type": "markdown",
   "metadata": {},
   "source": [
    "## Grouping"
   ]
  },
  {
   "cell_type": "code",
   "execution_count": null,
   "metadata": {},
   "outputs": [],
   "source": [
    "samples = []\n",
    "for cangle, vehnum in zip([0,1], [8000, 25000]):\n",
    "    sample = pairs[(pairs.cangle==cangle)&(pairs.v<=20)]\n",
    "    sample = sample.sort_values(by='v')\n",
    "    sample['round_v'] = np.round(sample['v'],1)\n",
    "    groups = sample.groupby('round_v').x.count()\n",
    "    threshold = groups[groups>=vehnum].index[-1]\n",
    "    sample1 = []\n",
    "    for roundv in sample[sample.round_v<=threshold].round_v.unique():\n",
    "        samp = sample[sample.round_v==roundv]\n",
    "        if len(samp)>vehnum:\n",
    "            samp = samp.loc[np.random.choice(samp.index.values, vehnum)]\n",
    "        sample1.append(samp)\n",
    "    sample1 = pd.concat(sample1, axis=0)\n",
    "    sample2 = sample[sample.round_v>threshold].copy()\n",
    "    sample2['round_v'] = np.arange(len(sample2))//vehnum\n",
    "    sample2['round_v'] = (np.round(sample2.groupby('round_v').v.mean(),1)).reindex(sample2.round_v).values\n",
    "    sample = pd.concat((sample1, sample2))\n",
    "    print('---- '+str(len(sample.round_v.unique()))+' ----')\n",
    "    samples.append(sample)\n",
    "samples = pd.concat(samples)\n",
    "samples[['x','y','v','round_v','cangle']].to_hdf(parent_dir + '/OutputData/DriverSpace/SurroundingSampling/IntersectionGL/samples_toinfer_GL.h5', key='samples')"
   ]
  },
  {
   "cell_type": "code",
   "execution_count": null,
   "metadata": {},
   "outputs": [],
   "source": []
  }
 ],
 "metadata": {
  "kernelspec": {
   "display_name": "base",
   "language": "python",
   "name": "python3"
  },
  "language_info": {
   "codemirror_mode": {
    "name": "ipython",
    "version": 3
   },
   "file_extension": ".py",
   "mimetype": "text/x-python",
   "name": "python",
   "nbconvert_exporter": "python",
   "pygments_lexer": "ipython3",
   "version": "3.9.16"
  },
  "orig_nbformat": 4
 },
 "nbformat": 4,
 "nbformat_minor": 2
}
