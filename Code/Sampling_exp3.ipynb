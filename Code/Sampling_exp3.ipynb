{
 "cells": [
  {
   "attachments": {},
   "cell_type": "markdown",
   "metadata": {},
   "source": [
    "# Sampling for experiment 2: impact of intersection layout (Section 5.1)"
   ]
  },
  {
   "cell_type": "code",
   "execution_count": 1,
   "metadata": {},
   "outputs": [],
   "source": [
    "import sys\n",
    "import glob\n",
    "from tqdm import tqdm\n",
    "import pandas as pd\n",
    "import numpy as np\n",
    "from itertools import combinations\n",
    "import matplotlib.pyplot as plt\n",
    "from matplotlib.path import Path\n",
    "from matplotlib.patches import PathPatch, Patch\n",
    "from matplotlib.collections import PatchCollection\n",
    "import matplotlib as mpl\n",
    "mpl.rc('font',family='Arial')\n",
    "from shapely.geometry import Point, Polygon\n",
    "from IPython.display import display, clear_output\n",
    "sys.path.append('MapVis/python')\n",
    "import main_visualize_data as vs\n",
    "import warnings\n",
    "warnings.filterwarnings('ignore')\n",
    "\n",
    "parent_dir = r'U:/Vehicle Coordination Yiru' # Set your parent directory here. "
   ]
  },
  {
   "attachments": {},
   "cell_type": "markdown",
   "metadata": {},
   "source": [
    "## Functions"
   ]
  },
  {
   "cell_type": "code",
   "execution_count": 2,
   "metadata": {},
   "outputs": [],
   "source": [
    "def angle(vec1x, vec1y, vec2x, vec2y):\n",
    "    sin = vec1x * vec2y - vec2x * vec1y  \n",
    "    cos = vec1x * vec2x + vec1y * vec2y\n",
    "    return -np.arctan2(sin, cos) * (180 / np.pi)\n",
    "\n",
    "def cortrans(xyaxis, yyaxis, x2t, y2t):\n",
    "    x = yyaxis/np.sqrt(xyaxis**2+yyaxis**2)*x2t-xyaxis/np.sqrt(xyaxis**2+yyaxis**2)*y2t\n",
    "    y = xyaxis/np.sqrt(xyaxis**2+yyaxis**2)*x2t+yyaxis/np.sqrt(xyaxis**2+yyaxis**2)*y2t\n",
    "    return x, y\n",
    "\n",
    "def Grouping(samples, vehnum):\n",
    "    samples = samples.sort_values(by='v')\n",
    "    samples['round_v'] = np.round(samples.v,1)\n",
    "    groups = samples.groupby('round_v').x.count()\n",
    "    try:\n",
    "        threshold = groups[groups>=vehnum].index[-1]\n",
    "        sample1 = []\n",
    "        for roundv in samples[samples.round_v<=threshold].round_v.unique():\n",
    "            clear_output(wait=True)\n",
    "            print('--- '+str(roundv)+' ----')\n",
    "            sample = samples[samples.round_v==roundv]\n",
    "            if len(sample)>vehnum:\n",
    "                sample = sample.loc[np.random.choice(sample.index.values, vehnum)]\n",
    "            sample1.append(sample)\n",
    "        sample1 = pd.concat(sample1)\n",
    "    except:\n",
    "        threshold = 0\n",
    "        sample1 = samples[samples.round_v<0].copy()\n",
    "    sample2 = samples[samples.round_v>threshold].copy()\n",
    "    sample2['round_v'] = np.arange(len(sample2))//vehnum\n",
    "    sample2['round_v'] = (np.round(sample2.groupby('round_v').v.mean(),1)).reindex(sample2.round_v).values\n",
    "    samples = pd.concat((sample1, sample2))\n",
    "\n",
    "    return samples"
   ]
  },
  {
   "attachments": {},
   "cell_type": "markdown",
   "metadata": {},
   "source": [
    "## Read raw data"
   ]
  },
  {
   "cell_type": "code",
   "execution_count": 3,
   "metadata": {},
   "outputs": [
    {
     "name": "stderr",
     "output_type": "stream",
     "text": [
      "  0%|          | 0/60 [00:00<?, ?it/s]"
     ]
    },
    {
     "name": "stderr",
     "output_type": "stream",
     "text": [
      "100%|██████████| 60/60 [00:33<00:00,  1.78it/s]\n"
     ]
    }
   ],
   "source": [
    "loc = 'DR_USA_Intersection_GL'\n",
    "data_files = sorted(glob.glob(r'U:/Vehicle Coordination Yiru/RawDatasets/INTERACTION/INTERACTION-Dataset-DR-v1_1/recorded_trackfiles/' + loc + '/vehicle*.csv'))\n",
    "\n",
    "for data_file in tqdm(data_files):\n",
    "    data = pd.read_csv(data_file)\n",
    "    data['hx'] = np.cos(data.psi_rad)\n",
    "    data['hy'] = np.sin(data.psi_rad)    \n",
    "    data.to_hdf(parent_dir + '/InputData/INTERACTION/' + loc + '/' + data_file[-22:-3] + 'h5', key='data')"
   ]
  },
  {
   "cell_type": "code",
   "execution_count": 4,
   "metadata": {},
   "outputs": [],
   "source": [
    "x_min,x_max,y_min,y_max = [data.x.min(), data.x.max(), data.y.min(), data.y.max()]"
   ]
  },
  {
   "attachments": {},
   "cell_type": "markdown",
   "metadata": {},
   "source": [
    "## Road segmentation"
   ]
  },
  {
   "cell_type": "code",
   "execution_count": 5,
   "metadata": {},
   "outputs": [],
   "source": [
    "def createfig(t):\n",
    "    fig, ax = plt.subplots(figsize=(16,6))\n",
    "\n",
    "    lines = vs.draw_map(ax, 'DR_USA_Intersection_GL', xlim=[x_min-5, x_max+5], ylim=[y_min-5, y_max+5])\n",
    "    # ax.set_title('t = '+str(t/10)+' s')\n",
    "    ax.set(aspect='equal')\n",
    "    ax.set_xlabel('Global '+r'$x$'+' coordinate (m)')\n",
    "    ax.set_ylabel('Global '+r'$y$'+' coordinate (m)')\n",
    "\n",
    "    return fig, ax, lines\n",
    "\n",
    "def plotpolygon(xlist, ylist):\n",
    "    for i in range(len(xlist)):\n",
    "        plt.plot(xlist[i], ylist[i])\n",
    "        plt.text(xlist[i][0], ylist[i][0], str(i))\n",
    "        plt.gca().set_aspect('equal')\n",
    "\n",
    "_, _, lines = createfig(0)\n",
    "x_lists, y_lists, _ = lines\n",
    "plt.close()"
   ]
  },
  {
   "cell_type": "code",
   "execution_count": 6,
   "metadata": {},
   "outputs": [
    {
     "data": {
      "image/svg+xml": [
       "<svg xmlns=\"http://www.w3.org/2000/svg\" xmlns:xlink=\"http://www.w3.org/1999/xlink\" width=\"100.0\" height=\"100.0\" viewBox=\"1002.1124233087523 930.3142987039777 24.502062357194063 49.747660999934624\" preserveAspectRatio=\"xMinYMin meet\"><g transform=\"matrix(1,0,0,-1,0,1910.37625840789)\"><path fill-rule=\"evenodd\" fill=\"#66cc99\" stroke=\"#555555\" stroke-width=\"0.9949532199986925\" opacity=\"0.6\" d=\"M 1003.9549292717129,934.4863830764133 L 1006.7541908572312,952.6538729698717 L 1007.5368319146801,959.894922666259 L 1007.7300691013806,966.5260370402751 L 1007.7378400018206,970.7055967075562 L 1007.6746252842131,974.3818633944571 L 1006.6987297760788,976.1951285918637 L 1005.4757878418313,977.3263023821631 L 1004.1221202615416,978.2194537409517 L 1005.5290134182433,978.1401388648214 L 1024.7719797029858,976.5259495414708 L 1024.5054316702299,976.3156982864374 L 1022.8788056652993,974.2070975945717 L 1021.2253259941936,970.478777045136 L 1020.2390718769748,964.9897799608291 L 1018.6038918184931,958.5319301286761 L 1014.2112996692886,932.1568046669382 L 1003.9549292717129,934.4863830764133 z\" /></g></svg>"
      ],
      "text/plain": [
       "<POLYGON ((1003.955 934.486, 1006.754 952.654, 1007.537 959.895, 1007.73 966...>"
      ]
     },
     "execution_count": 6,
     "metadata": {},
     "output_type": "execute_result"
    }
   ],
   "source": [
    "x = []\n",
    "y = []\n",
    "\n",
    "x.append(x_lists[15][4:][::-1])\n",
    "y.append(y_lists[15][4:][::-1])\n",
    "\n",
    "x.append(x_lists[21])\n",
    "y.append(y_lists[21])\n",
    "\n",
    "x.append(x_lists[16])\n",
    "y.append(y_lists[16])\n",
    "\n",
    "xlist, ylist = (x,y)\n",
    "# plotpolygon(xlist, ylist)\n",
    "\n",
    "outmidright = Polygon(np.array([[e for x in xlist for e in x], [e for x in ylist for e in x]]).T)\n",
    "outmidright"
   ]
  },
  {
   "cell_type": "code",
   "execution_count": 7,
   "metadata": {},
   "outputs": [
    {
     "data": {
      "image/svg+xml": [
       "<svg xmlns=\"http://www.w3.org/2000/svg\" xmlns:xlink=\"http://www.w3.org/1999/xlink\" width=\"100.0\" height=\"100.0\" viewBox=\"1012.1880410726876 996.3965449734383 23.48339336493609 31.25987334521551\" preserveAspectRatio=\"xMinYMin meet\"><g transform=\"matrix(1,0,0,-1,0,2024.052963292092)\"><path fill-rule=\"evenodd\" fill=\"#66cc99\" stroke=\"#555555\" stroke-width=\"0.6251974669043102\" opacity=\"0.6\" d=\"M 1023.8537504022825,1026.498645231794 L 1019.1074137203977,1009.5089731750483 L 1018.2209029138903,1006.9085221132153 L 1016.7808231699164,1004.4058895520993 L 1014.5298694415833,1002.7528994070992 L 1013.3458141595474,1002.1629706056701 L 1030.9235712150112,997.5543180602981 L 1030.9235712150112,997.5543180602981 L 1030.4018716685823,998.4569690739353 L 1030.0310087840771,999.931165358989 L 1029.8223524193745,1001.2711995657877 L 1030.0310092416476,1002.8229358654637 L 1030.550876800553,1006.4892866090921 L 1031.672270148585,1011.8555345251965 L 1034.5136613507639,1024.7711794704162 L 1023.8537504022825,1026.498645231794 z\" /></g></svg>"
      ],
      "text/plain": [
       "<POLYGON ((1023.854 1026.499, 1019.107 1009.509, 1018.221 1006.909, 1016.781...>"
      ]
     },
     "execution_count": 7,
     "metadata": {},
     "output_type": "execute_result"
    }
   ],
   "source": [
    "x = []\n",
    "y = []\n",
    "\n",
    "x.append(x_lists[12][:-5])\n",
    "y.append(y_lists[12][:-5])\n",
    "\n",
    "x.append(x_lists[7][::-1])\n",
    "y.append(y_lists[7][::-1])\n",
    "\n",
    "x.append(x_lists[6][:-3][::-1])\n",
    "y.append(y_lists[6][:-3][::-1])\n",
    "\n",
    "xlist, ylist = (x,y)\n",
    "# plotpolygon(xlist, ylist)\n",
    "\n",
    "inmidright = Polygon(np.array([[e for x in xlist for e in x], [e for x in ylist for e in x]]).T)\n",
    "inmidright"
   ]
  },
  {
   "cell_type": "code",
   "execution_count": 8,
   "metadata": {},
   "outputs": [
    {
     "data": {
      "image/svg+xml": [
       "<svg xmlns=\"http://www.w3.org/2000/svg\" xmlns:xlink=\"http://www.w3.org/1999/xlink\" width=\"100.0\" height=\"100.0\" viewBox=\"988.6306497564811 934.2248698019931 15.348819931239404 49.463172909906234\" preserveAspectRatio=\"xMinYMin meet\"><g transform=\"matrix(1,0,0,-1,0,1917.9129125138925)\"><path fill-rule=\"evenodd\" fill=\"#66cc99\" stroke=\"#555555\" stroke-width=\"0.9892634581981247\" opacity=\"0.6\" d=\"M 1000.0112704096828,936.1951175147555 L 999.8712044212152,939.203979034828 L 998.7078419274185,945.709872353742 L 996.9580874480307,954.3096263073184 L 995.7928667161032,959.6376094200104 L 995.563020030444,962.1537361249949 L 995.3249441851513,964.4957636801349 L 995.668630069762,967.8865745840652 L 996.8230481740902,972.842652708936 L 997.7549933767295,975.0630802121407 L 998.4025973872049,976.1994919893872 L 998.564495269733,976.1994917939895 L 998.6764725037501,976.4904967040809 L 998.6764725037501,976.4904967040809 L 999.6518474514596,977.555307954245 L 1000.7774177418323,978.2949657154398 L 1002.147500320687,978.5745536036513 L 1000.5037992798025,979.0172997597008 L 991.0848809591728,981.8560733448658 L 990.60899276071,978.5732354457355 L 990.5794183838298,978.3944557171104 L 990.5968638126506,978.1544607979317 L 990.4626191235147,975.1292391088663 L 990.6608592513949,970.8282381784612 L 991.3593530405778,963.8101056355099 L 992.4517799451132,957.6173744267794 L 996.5929524466046,936.0568391690267 L 1000.0112704096828,936.1951175147555 z\" /></g></svg>"
      ],
      "text/plain": [
       "<POLYGON ((1000.011 936.195, 999.871 939.204, 998.708 945.71, 996.958 954.31...>"
      ]
     },
     "execution_count": 8,
     "metadata": {},
     "output_type": "execute_result"
    }
   ],
   "source": [
    "x = []\n",
    "y = []\n",
    "\n",
    "x.append(x_lists[8])\n",
    "y.append(y_lists[8])\n",
    "\n",
    "x.append(x_lists[15][:4])\n",
    "y.append(y_lists[15][:4])\n",
    "\n",
    "x.append([(x_lists[2][-1]*0.6+x_lists[2][0]*0.4),x_lists[2][-1]][::-1])\n",
    "y.append([(y_lists[2][-1]*0.6+y_lists[2][0]*0.4),y_lists[2][-1]][::-1])\n",
    "\n",
    "x.append(x_lists[11][::-1])\n",
    "y.append(y_lists[11][::-1])\n",
    "\n",
    "xlist, ylist = (x,y)\n",
    "# plotpolygon(xlist, ylist)\n",
    "\n",
    "inmidleftdown = Polygon(np.array([[e for x in xlist for e in x], [e for x in ylist for e in x]]).T)\n",
    "inmidleftdown"
   ]
  },
  {
   "cell_type": "code",
   "execution_count": 9,
   "metadata": {},
   "outputs": [
    {
     "data": {
      "image/svg+xml": [
       "<svg xmlns=\"http://www.w3.org/2000/svg\" xmlns:xlink=\"http://www.w3.org/1999/xlink\" width=\"100.0\" height=\"100.0\" viewBox=\"974.9447641069341 933.8090100689686 23.65992771096444 54.31696302493856\" preserveAspectRatio=\"xMinYMin meet\"><g transform=\"matrix(1,0,0,-1,0,1921.9349831628758)\"><path fill-rule=\"evenodd\" fill=\"#66cc99\" stroke=\"#555555\" stroke-width=\"1.0863392604987712\" opacity=\"0.6\" d=\"M 991.1147594762733,935.8207494402626 L 987.7481761223753,951.3117545379329 L 986.6873664662708,956.5122438816337 L 985.5822815216961,963.4404309502785 L 984.2238841118524,970.8383473310636 L 983.3497344422503,976.428533035128 L 981.7387191917514,980.8555879384613 L 981.5647598486394,981.0702745200268 L 981.5864467117935,981.1673899286703 L 981.5864467117935,981.1673899286703 L 979.3676852458739,984.1965457319975 L 977.4269682095037,985.9569509720744 L 976.9565034782281,986.1142337226132 L 991.0848809591728,981.8560733448658 L 990.60899276071,978.5732354457355 L 990.5794183838298,978.3944557171104 L 990.5968638126506,978.1544607979317 L 990.4626191235147,975.1292391088663 L 990.6608592513949,970.8282381784612 L 991.3593530405778,963.8101056355099 L 992.4517799451132,957.6173744267794 L 996.5929524466046,936.0568391690267 L 991.1147594762733,935.8207494402626 z\" /></g></svg>"
      ],
      "text/plain": [
       "<POLYGON ((991.115 935.821, 987.748 951.312, 986.687 956.512, 985.582 963.44...>"
      ]
     },
     "execution_count": 9,
     "metadata": {},
     "output_type": "execute_result"
    }
   ],
   "source": [
    "x = []\n",
    "y = []\n",
    "\n",
    "x.append(x_lists[13][::-1])\n",
    "y.append(y_lists[13][::-1])\n",
    "\n",
    "x.append(x_lists[26][2:][::-1])\n",
    "y.append(y_lists[26][2:][::-1])\n",
    "\n",
    "x.append([(x_lists[2][-1]*0.6+x_lists[2][0]*0.4),x_lists[2][0]][::-1])\n",
    "y.append([(y_lists[2][-1]*0.6+y_lists[2][0]*0.4),y_lists[2][0]][::-1])\n",
    "\n",
    "x.append(x_lists[11][::-1])\n",
    "y.append(y_lists[11][::-1])\n",
    "\n",
    "xlist, ylist = (x,y)\n",
    "# plotpolygon(xlist, ylist)\n",
    "\n",
    "outmidleftdown = Polygon(np.array([[e for x in xlist for e in x], [e for x in ylist for e in x]]).T)\n",
    "outmidleftdown"
   ]
  },
  {
   "cell_type": "code",
   "execution_count": 10,
   "metadata": {},
   "outputs": [
    {
     "data": {
      "image/svg+xml": [
       "<svg xmlns=\"http://www.w3.org/2000/svg\" xmlns:xlink=\"http://www.w3.org/1999/xlink\" width=\"100.0\" height=\"100.0\" viewBox=\"993.5413204449789 1003.0532682663674 16.7125771864537 26.011673556801156\" preserveAspectRatio=\"xMinYMin meet\"><g transform=\"matrix(1,0,0,-1,0,2032.1182100895358)\"><path fill-rule=\"evenodd\" fill=\"#66cc99\" stroke=\"#555555\" stroke-width=\"0.5202334711360231\" opacity=\"0.6\" d=\"M 1005.2400183332502,1028.1015465062499 L 1005.1001344264369,1027.6100893394064 L 1004.4134045228711,1026.8909399071672 L 997.7415517913178,1017.2765714278818 L 995.5959998822655,1009.6832380756474 L 995.5329146748991,1009.3712475040173 L 994.5047157618974,1006.262599405501 L 1005.8143639440532,1004.0166635832859 L 1003.8059831253486,1007.5265961190828 L 1003.8322757686255,1007.6782687591498 L 1003.4682468873798,1009.1651937500682 L 1003.4869882556959,1011.2129813955603 L 1005.693181440758,1018.8178644749979 L 1008.6788704945939,1025.78921225232 L 1009.1473410535255,1026.6206679415977 L 1009.290502314514,1027.0125955328745 L 1005.2400183332502,1028.1015465062499 z\" /></g></svg>"
      ],
      "text/plain": [
       "<POLYGON ((1005.24 1028.102, 1005.1 1027.61, 1004.413 1026.891, 997.742 1017...>"
      ]
     },
     "execution_count": 10,
     "metadata": {},
     "output_type": "execute_result"
    }
   ],
   "source": [
    "x = []\n",
    "y = []\n",
    "\n",
    "x.append(x_lists[25])\n",
    "y.append(y_lists[25])\n",
    "\n",
    "x.append([(x_lists[31][-1]+x_lists[31][0])/2,x_lists[31][0]])\n",
    "y.append([(y_lists[31][-1]+y_lists[31][0])/2,y_lists[31][0]])\n",
    "\n",
    "x.append(x_lists[24])\n",
    "y.append(y_lists[24])\n",
    "\n",
    "xlist, ylist = (x,y)\n",
    "# plotpolygon(xlist, ylist)\n",
    "\n",
    "outmidleftup = Polygon(np.array([[e for x in xlist for e in x], [e for x in ylist for e in x]]).T)\n",
    "outmidleftup"
   ]
  },
  {
   "cell_type": "code",
   "execution_count": 11,
   "metadata": {},
   "outputs": [
    {
     "data": {
      "image/svg+xml": [
       "<svg xmlns=\"http://www.w3.org/2000/svg\" xmlns:xlink=\"http://www.w3.org/1999/xlink\" width=\"100.0\" height=\"100.0\" viewBox=\"982.2640341617165 1005.3315659874759 23.90701758955879 25.137902286677217\" preserveAspectRatio=\"xMinYMin meet\"><g transform=\"matrix(1,0,0,-1,0,2035.801034261629)\"><path fill-rule=\"evenodd\" fill=\"#66cc99\" stroke=\"#555555\" stroke-width=\"0.5027580457335443\" opacity=\"0.6\" d=\"M 999.4839321941254,1029.538434856128 L 999.4259014953859,1029.117826635106 L 998.7367260874016,1028.5746026689212 L 991.14092043665,1017.7730625255041 L 986.9901669279789,1011.7383772972164 L 986.7340383980772,1011.5322045938118 L 986.6431435088161,1011.2773415646633 L 983.1950675797416,1008.508535227716 L 994.5047157618974,1006.262599405501 L 995.5329146748991,1009.3712475040173 L 995.5959998822655,1009.6832380756474 L 997.7415517913178,1017.2765714278818 L 1004.4134045228711,1026.8909399071672 L 1005.1001344264369,1027.6100893394064 L 1005.2400183332502,1028.1015465062499 L 999.4839321941254,1029.538434856128 z\" /></g></svg>"
      ],
      "text/plain": [
       "<POLYGON ((999.484 1029.538, 999.426 1029.118, 998.737 1028.575, 991.141 101...>"
      ]
     },
     "execution_count": 11,
     "metadata": {},
     "output_type": "execute_result"
    }
   ],
   "source": [
    "x = []\n",
    "y = []\n",
    "\n",
    "x.append(x_lists[28])\n",
    "y.append(y_lists[28])\n",
    "\n",
    "x.append([(x_lists[31][-1]+x_lists[31][0])/2,x_lists[31][-1]][::-1])\n",
    "y.append([(y_lists[31][-1]+y_lists[31][0])/2,y_lists[31][-1]][::-1])\n",
    "\n",
    "x.append(x_lists[25][::-1])\n",
    "y.append(y_lists[25][::-1])\n",
    "\n",
    "xlist, ylist = (x,y)\n",
    "# plotpolygon(xlist, ylist)\n",
    "\n",
    "inmidleftup = Polygon(np.array([[e for x in xlist for e in x], [e for x in ylist for e in x]]).T)\n",
    "inmidleftup"
   ]
  },
  {
   "cell_type": "code",
   "execution_count": 12,
   "metadata": {},
   "outputs": [
    {
     "data": {
      "image/svg+xml": [
       "<svg xmlns=\"http://www.w3.org/2000/svg\" xmlns:xlink=\"http://www.w3.org/1999/xlink\" width=\"100.0\" height=\"100.0\" viewBox=\"914.0430056393193 994.3533924038696 66.08953677767659 46.838948409053614\" preserveAspectRatio=\"xMinYMin meet\"><g transform=\"matrix(1,0,0,-1,0,2035.545733216793)\"><path fill-rule=\"evenodd\" fill=\"#66cc99\" stroke=\"#555555\" stroke-width=\"1.3217907355535317\" opacity=\"0.6\" d=\"M 916.4907662607147,1007.7941829093415 L 934.5763819471467,1004.420118481963 L 950.7093033794663,1001.5432287593054 L 968.118208427506,998.2840164133822 L 968.118208427506,998.2840164133822 L 972.5219805514207,997.5047156431079 L 973.151239311439,997.4069009048236 L 976.5588312468317,996.8011530252651 L 977.6847817956004,1006.5567805209607 L 974.3410750968615,1006.676289328535 L 971.1381598041626,1007.4953794370907 L 965.8683433088008,1008.4600644176766 L 960.5509389776853,1009.1403395095289 L 938.1940874596476,1013.0144516660948 L 935.1567684594193,1013.5465780520088 L 934.1255824165419,1014.021808269338 L 933.2057740835007,1015.032032933305 L 932.850382681936,1016.0854918791214 L 932.9280173045117,1017.2229503390602 L 936.8515092800371,1038.7445801915278 L 916.4907662607147,1007.7941829093415 z\" /></g></svg>"
      ],
      "text/plain": [
       "<POLYGON ((916.491 1007.794, 934.576 1004.42, 950.709 1001.543, 968.118 998....>"
      ]
     },
     "execution_count": 12,
     "metadata": {},
     "output_type": "execute_result"
    }
   ],
   "source": [
    "x = []\n",
    "y = []\n",
    "\n",
    "x.append(x_lists[10])\n",
    "y.append(y_lists[10])\n",
    "\n",
    "x.append(x_lists[0][:])\n",
    "y.append(y_lists[0][:])\n",
    "\n",
    "x.append([(x_lists[4][0]+x_lists[4][-1])/2,x_lists[4][0]])\n",
    "y.append([(y_lists[4][0]+y_lists[4][-1])/2,y_lists[4][0]])\n",
    "\n",
    "x.append(x_lists[9][1:])\n",
    "y.append(y_lists[9][1:])\n",
    "\n",
    "xlist, ylist = (x,y)\n",
    "# plotpolygon(xlist, ylist)\n",
    "\n",
    "outleft = Polygon(np.array([[e for x in xlist for e in x], [e for x in ylist for e in x]]).T)\n",
    "outleft"
   ]
  },
  {
   "cell_type": "code",
   "execution_count": 13,
   "metadata": {},
   "outputs": [
    {
     "data": {
      "image/svg+xml": [
       "<svg xmlns=\"http://www.w3.org/2000/svg\" xmlns:xlink=\"http://www.w3.org/1999/xlink\" width=\"100.0\" height=\"100.0\" viewBox=\"914.08804366127 967.3406860837787 64.87351018500635 42.856219425007566\" preserveAspectRatio=\"xMinYMin meet\"><g transform=\"matrix(1,0,0,-1,0,1977.537591592565)\"><path fill-rule=\"evenodd\" fill=\"#66cc99\" stroke=\"#555555\" stroke-width=\"1.2974702037001271\" opacity=\"0.6\" d=\"M 916.4907662607147,1007.7941829093415 L 934.5763819471467,1004.420118481963 L 950.7093033794663,1001.5432287593054 L 968.118208427506,998.2840164133822 L 968.118208427506,998.2840164133822 L 972.5219805514207,997.5047156431079 L 973.151239311439,997.4069009048236 L 976.5588312468317,996.8011530252651 L 975.432880698063,987.0455255295694 L 972.2008780637407,988.5338698666926 L 961.3232063576579,990.0887466596587 L 942.0597176903975,993.6390920391524 L 935.969580563542,994.9049897819364 L 932.9196889097802,995.5590806447573 L 929.8742719762377,995.6519788190616 L 928.6479586280184,995.0021931101192 L 927.176845475391,993.0529263039494 L 926.386662839679,992.2542155845362 L 922.2583218876389,969.7434086832234 L 916.4907662607147,1007.7941829093415 z\" /></g></svg>"
      ],
      "text/plain": [
       "<POLYGON ((916.491 1007.794, 934.576 1004.42, 950.709 1001.543, 968.118 998....>"
      ]
     },
     "execution_count": 13,
     "metadata": {},
     "output_type": "execute_result"
    }
   ],
   "source": [
    "x = []\n",
    "y = []\n",
    "\n",
    "x.append(x_lists[10])\n",
    "y.append(y_lists[10])\n",
    "\n",
    "x.append(x_lists[0][:])\n",
    "y.append(y_lists[0][:])\n",
    "\n",
    "x.append([(x_lists[4][0]+x_lists[4][-1])/2,x_lists[4][-1]])\n",
    "y.append([(y_lists[4][0]+y_lists[4][-1])/2,y_lists[4][-1]])\n",
    "\n",
    "x.append(x_lists[30][::-1])\n",
    "y.append(y_lists[30][::-1])\n",
    "\n",
    "xlist, ylist = (x,y)\n",
    "# plotpolygon(xlist, ylist)\n",
    "\n",
    "inleft = Polygon(np.array([[e for x in xlist for e in x], [e for x in ylist for e in x]]).T)\n",
    "inleft"
   ]
  },
  {
   "cell_type": "code",
   "execution_count": 14,
   "metadata": {},
   "outputs": [
    {
     "data": {
      "image/svg+xml": [
       "<svg xmlns=\"http://www.w3.org/2000/svg\" xmlns:xlink=\"http://www.w3.org/1999/xlink\" width=\"100.0\" height=\"100.0\" viewBox=\"972.7053221594076 973.7513198098272 73.64408054369278 37.48477395654413\" preserveAspectRatio=\"xMinYMin meet\"><g transform=\"matrix(1,0,0,-1,0,1984.9874135761986)\"><path fill-rule=\"evenodd\" fill=\"#66cc99\" stroke=\"#555555\" stroke-width=\"1.4728816108738556\" opacity=\"0.6\" d=\"M 1040.2341777081601,976.4788783484826 L 1035.5069593658554,977.1928959589679 L 1029.051936177886,977.8641977241399 L 1027.6279719382874,977.5895124206647 L 1026.1060188746778,977.132648946381 L 1024.7719797029858,976.5259495414708 L 1005.5290134182433,978.1401388648214 L 1004.1221202615416,978.2194537409517 L 1002.147500320687,978.5745536036513 L 1000.5037992798025,979.0172997597008 L 984.6513742189854,983.7950797112464 L 980.7372272439534,984.9747631347439 L 976.9565034782281,986.1142337226132 L 975.432880698063,987.0455255295694 L 977.6847817956004,1006.5567805209607 L 977.6847817956004,1006.5567805209607 L 980.4835981226643,1007.3118843005782 L 983.1950675797416,1008.508535227716 L 983.1950675797416,1008.508535227716 L 995.2004304479342,1005.9644076757547 L 1005.8143639440532,1004.0166635832859 L 1013.3458141595474,1002.1629706056701 L 1030.9235712150112,997.5543180602981 L 1032.4397285592859,996.6090729543939 L 1033.7067734512384,996.1942049834636 L 1043.621844164445,993.9272285736753 L 1040.2341777081601,976.4788783484826 z\" /></g></svg>"
      ],
      "text/plain": [
       "<POLYGON ((1040.234 976.479, 1035.507 977.193, 1029.052 977.864, 1027.628 97...>"
      ]
     },
     "execution_count": 14,
     "metadata": {},
     "output_type": "execute_result"
    }
   ],
   "source": [
    "x = []\n",
    "y = []\n",
    "\n",
    "x.append(x_lists[5][1:][::-1])\n",
    "y.append(y_lists[5][1:][::-1])\n",
    "\n",
    "x.append(x_lists[21][::-1])\n",
    "y.append(y_lists[21][::-1])\n",
    "\n",
    "x.append(x_lists[15][3:5][::-1])\n",
    "y.append(y_lists[15][3:5][::-1])\n",
    "\n",
    "x.append(x_lists[2][:][::-1])\n",
    "y.append(y_lists[2][:][::-1])\n",
    "\n",
    "x.append(x_lists[4][:][::-1])\n",
    "y.append(y_lists[4][:][::-1])\n",
    "\n",
    "x.append(x_lists[27][2:][::-1])\n",
    "y.append(y_lists[27][2:][::-1])\n",
    "\n",
    "x.append(x_lists[31][:][::-1])\n",
    "y.append(y_lists[31][:][::-1])\n",
    "\n",
    "x.append(x_lists[7][:][::-1])\n",
    "y.append(y_lists[7][:][::-1])\n",
    "\n",
    "x.append(x_lists[6][8:])\n",
    "y.append(y_lists[6][8:])\n",
    "\n",
    "xlist, ylist = (x,y)\n",
    "# plotpolygon(xlist, ylist)\n",
    "\n",
    "inside = Polygon(np.array([[e for x in xlist for e in x], [e for x in ylist for e in x]]).T)\n",
    "inside"
   ]
  },
  {
   "cell_type": "code",
   "execution_count": null,
   "metadata": {},
   "outputs": [
    {
     "data": {
      "application/vnd.jupyter.widget-view+json": {
       "model_id": "2a4dbfbe1c764c97b37a9bd092cf534c",
       "version_major": 2,
       "version_minor": 0
      },
      "text/plain": [
       "  0%|          | 0/1 [00:00<?, ?it/s]"
      ]
     },
     "metadata": {},
     "output_type": "display_data"
    }
   ],
   "source": [
    "data_files = sorted(glob.glob(parent_dir + '/InputData/INTERACTION/DR_USA_Intersection_GL/*.h5'))\n",
    "\n",
    "for data_file in tqdm(data_files):    \n",
    "    data = pd.read_hdf(data_file, key='data')\n",
    "    \n",
    "    positions = np.empty(len(data)).astype(str)\n",
    "    poses = np.empty(len(data))\n",
    "    for poly, position, pos in zip([outmidright, inmidright, inmidleftdown, outmidleftdown, outmidleftup, inmidleftup, outleft, inleft, inside],\n",
    "                                   ['out_midright', 'in_midright', 'in_midleftdown', 'out_midleftdown', 'out_midleftup', 'in_midleftup', 'out_left', 'in_left', 'inside'],\n",
    "                                   [-1, 1, 1, -1, -1, 1, -1, 1, 0]):\n",
    "        PointIn = data.apply(lambda x: Point(x[['x','y']].values).within(poly), axis=1).values\n",
    "        positions[PointIn] = position\n",
    "        poses[PointIn] = pos\n",
    "    poses[(poses!=-1)&(poses!=1)&(poses!=0)] = 0\n",
    "    positions[(poses!=-1)&(poses!=1)] = 'inside'\n",
    "    data['position'] = positions\n",
    "    data['pos'] = poses\n",
    "    \n",
    "    data.to_hdf(data_file, key='data')"
   ]
  },
  {
   "attachments": {},
   "cell_type": "markdown",
   "metadata": {},
   "source": [
    "## Map figure maker"
   ]
  },
  {
   "cell_type": "code",
   "execution_count": 15,
   "metadata": {},
   "outputs": [
    {
     "data": {
      "text/plain": [
       "<matplotlib.legend.Legend at 0x1e2d525c040>"
      ]
     },
     "execution_count": 15,
     "metadata": {},
     "output_type": "execute_result"
    },
    {
     "data": {
      "image/png": "[encoded data removed]",
      "text/plain": [
       "<Figure size 300x300 with 1 Axes>"
      ]
     },
     "metadata": {},
     "output_type": "display_data"
    }
   ],
   "source": [
    "mpl.rc('hatch', color='w', linewidth=0.2)\n",
    "def plot_polygon(ax, poly, **kwargs):\n",
    "    path = Path.make_compound_path(\n",
    "           Path(np.asarray(poly.exterior.coords)[:, :2]),\n",
    "           *[Path(np.asarray(ring.coords)[:, :2]) for ring in poly.interiors])\n",
    "\n",
    "    patch = PathPatch(path, **kwargs)\n",
    "    collection = PatchCollection([patch], **kwargs)\n",
    "    \n",
    "    ax.add_collection(collection, autolim=True)\n",
    "    return collection\n",
    "\n",
    "E_min, E_max, N_min, N_max = [930.805-15, 1039.831+5, 958.158-25, 1027.282+10]\n",
    "fig, ax = plt.subplots(figsize=(3,3))\n",
    "lines = vs.draw_map(ax, 'DR_USA_Intersection_GL', xlim=[x_min-5, x_max+5], ylim=[y_min-5, y_max+5])\n",
    "polygons = [outmidright, inmidright, inmidleftdown, outmidleftdown, outmidleftup, inmidleftup, outleft, inleft, inside]\n",
    "colors = ['tab:green','tab:red','tab:red','tab:green','tab:green','tab:red','tab:green','tab:red','tab:blue']\n",
    "hatches = ['/////','\\\\\\\\\\\\\\\\\\\\\\\\','\\\\\\\\\\\\\\\\\\\\\\\\','/////','\\\\\\\\\\\\\\\\\\\\\\\\','/////','\\\\\\\\\\\\\\\\\\\\\\\\','/////',None]\n",
    "for polygon,color,hatch in zip(polygons,colors,hatches):\n",
    "    plot_polygon(ax, polygon, facecolor=color, edgecolor='none', alpha=0.3, lw=0.5, hatch=hatch, label='polygon')\n",
    "handles, labels = ax.get_legend_handles_labels()\n",
    "ax.set_xlim(E_min+21, E_max)\n",
    "ax.set_ylim(N_min-3, N_max-5)\n",
    "ax.set_aspect('equal')\n",
    "ax.set_axis_off()\n",
    "handles = [Patch(color='tab:red', alpha=0.3, hatch='/////', ec='w'), \n",
    "           Patch(color='tab:green', alpha=0.3, hatch='\\\\\\\\\\\\\\\\\\\\\\\\', ec='w'), \n",
    "           Patch(color='tab:blue', alpha=0.3, ec='none')]\n",
    "ax.legend(handles, ['Entering', 'Exiting', 'Inside'], loc='lower left', bbox_to_anchor=(-0.04, 0.05), frameon=False, fontsize=9)\n",
    "\n",
    "# for i in range(len(x_lists)):\n",
    "    # plt.plot(x_lists[i], y_lists[i], lw=2)\n",
    "    # plt.text(x_lists[i][1], y_lists[i][1], str(i))\n",
    "# plt.scatter(data.x, data.y, c=poses, s=1)"
   ]
  },
  {
   "cell_type": "code",
   "execution_count": 16,
   "metadata": {},
   "outputs": [],
   "source": [
    "figure_path = r'C:/SURFdrive/PhD progress/PhDResearch/1_DriverSpaceInference/Journal paper/Figures/'\n",
    "fig.savefig(figure_path + 'GL_map.pdf', bbox_inches='tight', dpi=600)"
   ]
  },
  {
   "cell_type": "code",
   "execution_count": 57,
   "metadata": {},
   "outputs": [
    {
     "data": {
      "text/plain": [
       "2.1772054372351537"
      ]
     },
     "execution_count": 57,
     "metadata": {},
     "output_type": "execute_result"
    }
   ],
   "source": [
    "(N_max-10-(N_min+15))/(E_max-(E_min+20))*3"
   ]
  },
  {
   "attachments": {},
   "cell_type": "markdown",
   "metadata": {},
   "source": [
    "## Load data"
   ]
  },
  {
   "cell_type": "code",
   "execution_count": 12,
   "metadata": {},
   "outputs": [
    {
     "name": "stderr",
     "output_type": "stream",
     "text": [
      "  0%|          | 0/60 [00:00<?, ?it/s]"
     ]
    },
    {
     "name": "stderr",
     "output_type": "stream",
     "text": [
      "100%|██████████| 60/60 [01:16<00:00,  1.28s/it]\n"
     ]
    }
   ],
   "source": [
    "data_files = sorted(glob.glob(parent_dir + '/InputData/INTERACTION/DR_USA_Intersection_GL/*.h5'))\n",
    "\n",
    "data = []\n",
    "for data_file in tqdm(data_files):\n",
    "    df = pd.read_hdf(data_file, key='data', mode='r+')\n",
    "    file_id = int(data_file[-6:-3])\n",
    "    df['file_id'] = file_id\n",
    "    df['frame_id'] = (file_id * 1e4 + df['frame_id']).astype(int)\n",
    "    df['track_id'] = (file_id * 1e3 + df['track_id']).astype(int)\n",
    "    df['unique_id'] = (df['track_id'] * 1e4 + df['frame_id'] % 1e4).astype(int)\n",
    "    data.append(df)\n",
    "data = pd.concat(data)\n",
    "\n",
    "data = data.reset_index()\n",
    "data = data.dropna()"
   ]
  },
  {
   "cell_type": "code",
   "execution_count": 13,
   "metadata": {},
   "outputs": [
    {
     "name": "stdout",
     "output_type": "stream",
     "text": [
      "There are 10510 vehicles\n",
      "4.34 hours of data is recorded\n",
      "The distance range is 109.03 m\n"
     ]
    }
   ],
   "source": [
    "print('There are {} vehicles'.format(len(data.track_id.drop_duplicates())))\n",
    "print('{:.2f} hours of data is recorded'.format(len(data.frame_id.drop_duplicates())/10/60/60))\n",
    "print('The distance range is {:.2f} m'.format(data.x.max() - data.x.min()))"
   ]
  },
  {
   "attachments": {},
   "cell_type": "markdown",
   "metadata": {},
   "source": [
    "## Sampling"
   ]
  },
  {
   "cell_type": "code",
   "execution_count": 14,
   "metadata": {},
   "outputs": [],
   "source": [
    "# correct heading directions\n",
    "data.loc[np.sign(data.vx)*np.sign(data.hx)==-1, 'hx'] = -data[np.sign(data.vx)*np.sign(data.hx)==-1].hx\n",
    "data.loc[np.sign(data.vy)*np.sign(data.hy)==-1, 'hy'] = -data[np.sign(data.vy)*np.sign(data.hy)==-1].hy"
   ]
  },
  {
   "cell_type": "code",
   "execution_count": 15,
   "metadata": {},
   "outputs": [],
   "source": [
    "pair_idx = data.groupby('frame_id').apply(lambda x : pd.DataFrame.from_records(combinations(x.unique_id, 2)))\n",
    "\n",
    "pairs = pd.DataFrame({'frame_id':pair_idx.index.get_level_values(0).astype(int), 'i':(pair_idx[0]//1e4).astype(int), 'j':(pair_idx[1]//1e4).astype(int)})\n",
    "pairs['file_id'] = data.reindex(index=pair_idx[0].values)['file_id'].values\n",
    "pairs[['x_i','y_i','vx_i','vy_i','hx_i','hy_i','length_i','width_i','pos_i']] = data.set_index('unique_id').reindex(index=pair_idx[0].values)[['x','y','vx','vy','hx','hy','length','width','pos']].values\n",
    "pairs[['x_j','y_j','vx_j','vy_j','hx_j','hy_j','length_j','width_j','pos_j']] = data.set_index('unique_id').reindex(index=pair_idx[1].values)[['x','y','vx','vy','hx','hy','length','width','pos']].values\n",
    "pairs = pairs[(pairs.pos_i*pairs.pos_j)>-0.5] # vehicles in the entering lane cannot interact with vehicles in the exit lane\n",
    "data = []\n",
    "\n",
    "dvx = pairs['vx_i']-pairs['vx_j']\n",
    "dvy = pairs['vy_i']-pairs['vy_j']\n",
    "pairs = pairs[(dvx!=0)|(dvy!=0)] # proximity resistance cannot be computed for two vehicles with a relative velocity of (0,0)\n",
    "pairs['x'] = dvy/np.sqrt(dvx**2+dvy**2)*(pairs.x_j-pairs.x_i)-dvx/np.sqrt(dvx**2+dvy**2)*(pairs.y_j-pairs.y_i)\n",
    "pairs['y'] = dvx/np.sqrt(dvx**2+dvy**2)*(pairs.x_j-pairs.x_i)+dvy/np.sqrt(dvx**2+dvy**2)*(pairs.y_j-pairs.y_i)\n",
    "pairs['v'] = np.sqrt(dvx**2 + dvy**2)\n",
    "pairs['vi'] = np.sqrt(pairs.vx_i**2+pairs.vy_i**2)\n",
    "pairs['vj'] = np.sqrt(pairs.vx_j**2+pairs.vy_j**2)\n",
    "\n",
    "pairs = pairs[(abs(pairs.x)<15)&(abs(pairs.y)<100)]\n",
    "\n",
    "# remove overlapping (<0.5m) vehicles\n",
    "remove_list = pairs[(pairs.x**2+pairs.y**2)<0.25].j.drop_duplicates().values\n",
    "pairs = pairs[(~np.isin(pairs.j, remove_list))&(~np.isin(pairs.i, remove_list))]\n",
    "\n",
    "# with or without lateral interaction\n",
    "canglev = angle(pairs.hx_i, pairs.hy_i, pairs.hx_j, pairs.hy_j)\n",
    "cangle = np.empty(canglev.shape)\n",
    "cangle[abs(canglev)<5] = 0\n",
    "cangle[abs(canglev)>175] = 0\n",
    "cangle[(canglev<=175)&(canglev>=5)] = 1\n",
    "cangle[(canglev>=-175)&(canglev<=-5)] = 1\n",
    "pairs['cangle'] = cangle\n",
    "pairs['cangle_deg'] = canglev\n",
    "\n",
    "pairs = pairs.reset_index(drop=True)[['x','y','v','vi','vj','cangle','cangle_deg']]\n",
    "pairs.to_hdf(parent_dir + '/OutputData/DriverSpace/pNEUMA/SurroundingSampling/IntersectionGL/samples_GL.h5', key='samples')"
   ]
  },
  {
   "attachments": {},
   "cell_type": "markdown",
   "metadata": {},
   "source": [
    "## Grouping"
   ]
  },
  {
   "cell_type": "code",
   "execution_count": 16,
   "metadata": {},
   "outputs": [
    {
     "name": "stdout",
     "output_type": "stream",
     "text": [
      "---- 86 ----\n",
      "---- 121 ----\n"
     ]
    }
   ],
   "source": [
    "samples = []\n",
    "for cangle, vehnum in zip([0,1], [8000, 25000]):\n",
    "    sample = pairs[(pairs.cangle==cangle)&(pairs.v<=20)]\n",
    "    sample = sample.sort_values(by='v')\n",
    "    sample['round_v'] = np.round(sample['v'],1)\n",
    "    groups = sample.groupby('round_v').x.count()\n",
    "    threshold = groups[groups>=vehnum].index[-1]\n",
    "    sample1 = []\n",
    "    for roundv in sample[sample.round_v<=threshold].round_v.unique():\n",
    "        samp = sample[sample.round_v==roundv]\n",
    "        if len(samp)>vehnum:\n",
    "            samp = samp.loc[np.random.choice(samp.index.values, vehnum)]\n",
    "        sample1.append(samp)\n",
    "    sample1 = pd.concat(sample1, axis=0)\n",
    "    sample2 = sample[sample.round_v>threshold].copy()\n",
    "    sample2['round_v'] = np.arange(len(sample2))//vehnum\n",
    "    sample2['round_v'] = (np.round(sample2.groupby('round_v').v.mean(),1)).reindex(sample2.round_v).values\n",
    "    sample = pd.concat((sample1, sample2))\n",
    "    print('---- '+str(len(sample.round_v.unique()))+' ----')\n",
    "    samples.append(sample)\n",
    "samples = pd.concat(samples)\n",
    "samples[['x','y','v','round_v','cangle']].to_hdf(parent_dir + '/OutputData/DriverSpace/pNEUMA/SurroundingSampling/IntersectionGL/samples_toinfer_GL.h5', key='samples')"
   ]
  },
  {
   "cell_type": "code",
   "execution_count": null,
   "metadata": {},
   "outputs": [],
   "source": []
  }
 ],
 "metadata": {
  "kernelspec": {
   "display_name": "base",
   "language": "python",
   "name": "python3"
  },
  "language_info": {
   "codemirror_mode": {
    "name": "ipython",
    "version": 3
   },
   "file_extension": ".py",
   "mimetype": "text/x-python",
   "name": "python",
   "nbconvert_exporter": "python",
   "pygments_lexer": "ipython3",
   "version": "3.9.16"
  },
  "orig_nbformat": 4
 },
 "nbformat": 4,
 "nbformat_minor": 2
}
